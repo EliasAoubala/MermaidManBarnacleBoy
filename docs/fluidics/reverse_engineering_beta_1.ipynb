{
 "cells": [
  {
   "cell_type": "markdown",
   "id": "8d5e2460",
   "metadata": {},
   "source": [
    "# Reverse Engineering The Performance of the Beta-1 Turbopump Unit"
   ]
  },
  {
   "cell_type": "markdown",
   "id": "d83bf0d5",
   "metadata": {},
   "source": [
    "> Author: Elias Aoubala\n",
    "\n",
    "> Date: 11/05/2025"
   ]
  },
  {
   "cell_type": "code",
   "execution_count": 2,
   "id": "e8b44f91",
   "metadata": {},
   "outputs": [],
   "source": [
    "import handcalcs.render\n",
    "import numpy as np\n",
    "from CoolProp.CoolProp import PropsSI"
   ]
  },
  {
   "cell_type": "markdown",
   "id": "aab65caa",
   "metadata": {},
   "source": [
    "## 1 - Background"
   ]
  },
  {
   "cell_type": "markdown",
   "id": "d1538e69",
   "metadata": {},
   "source": [
    "This document contains the authors attempts to reverse engineer the performance of the Beta-1 Turbopump unit based on [this publication](https://apps.dtic.mil/sti/tr/pdf/ADA473854.pdf).\n",
    "\n",
    "The main aim here is to figure out what the expected efficiency of the turbopump unit was and against our current estimates for the overall system efficiencies."
   ]
  },
  {
   "cell_type": "markdown",
   "id": "3cab2b54",
   "metadata": {},
   "source": [
    "## 2 - Key Inputs"
   ]
  },
  {
   "cell_type": "markdown",
   "id": "45deb472",
   "metadata": {},
   "source": [
    "This section contains all the key inputs that relevant to the derivation of the turbopump units performance."
   ]
  },
  {
   "cell_type": "code",
   "execution_count": 4,
   "id": "65297ad7",
   "metadata": {},
   "outputs": [],
   "source": [
    "LB_TO_KG = 0.453592\n",
    "PSI_TO_PA = 6894.76"
   ]
  },
  {
   "cell_type": "markdown",
   "id": "d5445b9b",
   "metadata": {},
   "source": [
    "### 2.1 - Gas Generator and Turbine"
   ]
  },
  {
   "cell_type": "code",
   "execution_count": 7,
   "id": "868d8243",
   "metadata": {},
   "outputs": [
    {
     "data": {
      "text/latex": [
       "\\[\n",
       "\\begin{aligned}\n",
       "m_{dot_{gg}} &= 0.286 \\; \\;\\textrm{(kg/s)}\n",
       " &P_{c} &= 1999480.400 \\; \\;\\textrm{(Pa)}\n",
       " &T_{o} &= 743.150 \\; \\;\\textrm{(K)}\n",
       "\\\\[10pt]\n",
       " C_{p} &= 1045.087 \\; \n",
       " &\\gamma &= 1.336 \\;\n",
       "\\end{aligned}\n",
       "\\]"
      ],
      "text/plain": [
       "<IPython.core.display.Latex object>"
      ]
     },
     "metadata": {},
     "output_type": "display_data"
    }
   ],
   "source": [
    "%%render PARAM\n",
    "m_dot_gg = 0.63 * LB_TO_KG # kg/s\n",
    "P_c = 290 * PSI_TO_PA # Pa\n",
    "T_o = 470 + 273.15 # K\n",
    "C_p = PropsSI(\"C\", \"P\", P_c, \"T\", T_o, \"Oxygen\")\n",
    "gamma = PropsSI(\"C\", \"P\", P_c, \"T\", T_o, \"Oxygen\")/PropsSI(\"O\", \"P\", P_c, \"T\", T_o, \"Oxygen\")\n"
   ]
  },
  {
   "cell_type": "markdown",
   "id": "69f7f4f4",
   "metadata": {},
   "source": [
    "### 2.2 - Fuel Pump"
   ]
  },
  {
   "cell_type": "code",
   "execution_count": 17,
   "id": "ba79f268",
   "metadata": {},
   "outputs": [
    {
     "data": {
      "text/latex": [
       "\\[\n",
       "\\begin{aligned}\n",
       "\\rho_{f} &= 792 \\; \\;\\textrm{(kg/m3)}\n",
       " &m_{dot_{f}} &= 1.143 \\; \\;\\textrm{(kg/s)}\n",
       " &p_{in_{f}} &= 117210.920 \\; \\;\\textrm{(Pa)}\n",
       "\\\\[10pt]\n",
       " p_{out_{f}} &= 2688956.400 \\; \\;\\textrm{(Pa)}\n",
       "\\end{aligned}\n",
       "\\]"
      ],
      "text/plain": [
       "<IPython.core.display.Latex object>"
      ]
     },
     "metadata": {},
     "output_type": "display_data"
    }
   ],
   "source": [
    "%%render param\n",
    "\n",
    "rho_f = 792 # kg/m3\n",
    "m_dot_f = 2.52 *LB_TO_KG # kg/s\n",
    "p_in_f = 17 * PSI_TO_PA # Pa\n",
    "p_out_f = 390 * PSI_TO_PA # Pa"
   ]
  },
  {
   "cell_type": "markdown",
   "id": "5410e02a",
   "metadata": {},
   "source": [
    "### 2.3 - Oxidiser Pump"
   ]
  },
  {
   "cell_type": "code",
   "execution_count": 18,
   "id": "f4388c7c",
   "metadata": {},
   "outputs": [
    {
     "data": {
      "text/latex": [
       "\\[\n",
       "\\begin{aligned}\n",
       "\\rho_{o} &= 1100 \\; \\;\\textrm{(kg/m3)}\n",
       " &m_{dot_{o}} &= 3.461 \\; \\;\\textrm{(kg/s)}\n",
       " &p_{in_{o}} &= 117210.920 \\; \\;\\textrm{(Pa)}\n",
       "\\\\[10pt]\n",
       " p_{out_{o}} &= 2895799.200 \\; \\;\\textrm{(Pa)}\n",
       "\\end{aligned}\n",
       "\\]"
      ],
      "text/plain": [
       "<IPython.core.display.Latex object>"
      ]
     },
     "metadata": {},
     "output_type": "display_data"
    }
   ],
   "source": [
    "%%render param\n",
    "\n",
    "rho_o = 1100 # kg/m3\n",
    "m_dot_o = 7.63 *LB_TO_KG # kg/s\n",
    "p_in_o = 17 * PSI_TO_PA # Pa\n",
    "p_out_o = 420 * PSI_TO_PA # Pa"
   ]
  },
  {
   "cell_type": "markdown",
   "id": "34547740",
   "metadata": {},
   "source": [
    "## 3 - Performance estimation"
   ]
  },
  {
   "cell_type": "code",
   "execution_count": 10,
   "id": "43a80206",
   "metadata": {},
   "outputs": [
    {
     "data": {
      "text/latex": [
       "\\[\n",
       "\\begin{aligned}\n",
       "p_{fuel} &= \\frac{ \\left( p_{out_{f}} - p_{in_{f}} \\right) \\cdot \\left( \\frac{ m_{dot_{f}} }{ \\rho_{f} } \\right) }{ 1 \\times 10 ^ {3} } \\\\&= \\frac{ \\left( 2688956.400 - 117210.920 \\right) \\cdot \\left( \\frac{ 1.143 }{ 792 } \\right) }{ 1 \\times 10 ^ {3} } \\\\&= 3.712  \\\\[10pt]\n",
       "\\\\[10pt]\n",
       "p_{oxidiser} &= \\frac{ \\left( p_{out_{o}} - p_{in_{o}} \\right) \\cdot \\left( \\frac{ m_{dot_{o}} }{ \\rho_{o} } \\right) }{ 1 \\times 10 ^ {3} } \\\\&= \\frac{ \\left( 2895799.200 - 117210.920 \\right) \\cdot \\left( \\frac{ 3.461 }{ 1100 } \\right) }{ 1 \\times 10 ^ {3} } \\\\&= 8.742  \\\\[10pt]\n",
       "\\\\[10pt]\n",
       "p_{gg} &= \\frac{ m_{dot_{gg}} \\cdot C_{p} \\cdot T_{o} \\cdot \\left( 1 - \\left( \\frac{ 1 \\times 10 ^ {5} }{ P_{c} } \\right) ^{ \\left( \\frac{ \\gamma - 1 }{ \\gamma } \\right) } \\right) }{ 1 \\times 10 ^ {3} } \\\\&= \\frac{ 0.286 \\cdot 1045.087 \\cdot 743.150 \\cdot \\left( 1 - \\left( \\frac{ 1 \\times 10 ^ {5} }{ 1999480.400 } \\right) ^{ \\left( \\frac{ 1.336 - 1 }{ 1.336 } \\right) } \\right) }{ 1 \\times 10 ^ {3} } \\\\&= 117.441  \\\\[10pt]\n",
       "\\\\[10pt]\n",
       "\\eta_{o} &= \\frac{ p_{fuel} + p_{oxidiser} }{ p_{gg} }  = \\frac{ 3.712 + 8.742 }{ 117.441 } &= 0.106  \n",
       "\\end{aligned}\n",
       "\\]"
      ],
      "text/plain": [
       "<IPython.core.display.Latex object>"
      ]
     },
     "metadata": {},
     "output_type": "display_data"
    }
   ],
   "source": [
    "%%render\n",
    "\n",
    "p_fuel = ((p_out_f - p_in_f) * (m_dot_f/rho_f))/1e3\n",
    "\n",
    "p_oxidiser = ((p_out_o - p_in_o) * (m_dot_o/rho_o))/1e3\n",
    "\n",
    "p_gg = (m_dot_gg * C_p  * T_o * (1 - ((1e5)/P_c)**((gamma -1 )/gamma)))/1e3\n",
    "\n",
    "eta_o = (p_fuel + p_oxidiser)/p_gg"
   ]
  },
  {
   "cell_type": "markdown",
   "id": "e4b682ad",
   "metadata": {},
   "source": [
    "We then assume the case if the turbine sits around 25% efficiency - where does the pump sit?"
   ]
  },
  {
   "cell_type": "code",
   "execution_count": 15,
   "id": "35c9ee71",
   "metadata": {},
   "outputs": [
    {
     "data": {
      "text/latex": [
       "\\[\n",
       "\\begin{aligned}\n",
       "\\eta_{p} &= \\frac{ \\eta_{o} }{ 0.25 }  = \\frac{ 0.106 }{ 0.25 } &= 0.424  \n",
       "\\end{aligned}\n",
       "\\]"
      ],
      "text/plain": [
       "<IPython.core.display.Latex object>"
      ]
     },
     "metadata": {},
     "output_type": "display_data"
    }
   ],
   "source": [
    "%%render\n",
    "\n",
    "eta_p = eta_o/0.25"
   ]
  }
 ],
 "metadata": {
  "kernelspec": {
   "display_name": ".venv",
   "language": "python",
   "name": "python3"
  },
  "language_info": {
   "codemirror_mode": {
    "name": "ipython",
    "version": 3
   },
   "file_extension": ".py",
   "mimetype": "text/x-python",
   "name": "python",
   "nbconvert_exporter": "python",
   "pygments_lexer": "ipython3",
   "version": "3.11.3"
  }
 },
 "nbformat": 4,
 "nbformat_minor": 5
}
