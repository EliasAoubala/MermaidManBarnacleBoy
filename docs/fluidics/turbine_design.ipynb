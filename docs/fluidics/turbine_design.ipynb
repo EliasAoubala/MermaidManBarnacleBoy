{
 "cells": [
  {
   "cell_type": "markdown",
   "id": "5306acb5",
   "metadata": {},
   "source": [
    "# CDR: High Level Turbine Design"
   ]
  },
  {
   "cell_type": "markdown",
   "id": "d1bb5f56",
   "metadata": {},
   "source": [
    "> Author: Elias Aoubala\n",
    "\n",
    "> Date: 21/04/2025"
   ]
  },
  {
   "cell_type": "code",
   "execution_count": 1,
   "id": "20a84c5b",
   "metadata": {},
   "outputs": [],
   "source": [
    "from turborocket.meanline.meanline_relations import TurbineStageDesign\n",
    "from turborocket.fluids.fluids import IdealGas\n",
    "from turborocket.profiling.Supersonic.supersonic_profile import SymmetricFiniteEdge\n",
    "from turborocket.profiling.Supersonic.circular import inv_M_star, M_star\n",
    "import numpy as np\n",
    "import pandas as pd\n",
    "import handcalcs.render"
   ]
  },
  {
   "cell_type": "markdown",
   "id": "f796e122",
   "metadata": {},
   "source": [
    "## 1 - Background"
   ]
  },
  {
   "cell_type": "markdown",
   "id": "23648d20",
   "metadata": {},
   "source": [
    "This document encapsulates the work towards the development of the second iteration of the turbine stage of the \"Mermaidman and Barnacle Boy\" turbopump being developed by the Open Turbopumps amature group.\n",
    "\n",
    "This document highlights the high-level fluidic design and analyiss conducted for the turbine."
   ]
  },
  {
   "cell_type": "markdown",
   "id": "dd0ba64d",
   "metadata": {},
   "source": [
    "## 2 - High-Level Specifications"
   ]
  },
  {
   "cell_type": "markdown",
   "id": "2ca1878d",
   "metadata": {},
   "source": [
    "Based on the previous studies performed, the following key inputs have been used on the high-level turbine design:\n",
    "\n",
    "| Parameter        | Value      | Justification                                                                                                       |\n",
    "| ---------------- | ---------- | ------------------------------------------------------------------------------------------------------------------- |\n",
    "| Shaft Speed      | 30,000 RPM | Based on the preliminary rotor dynamic analysis, advancing the shaft speed to 30,000 RPM was identified as feasible |\n",
    "| Pump Power      | 4 kW       | This is the most up-to date pump power requirement                                                                  |\n",
    "\n",
    "The following inputs from the gas-generator study have additionally been provided:\n",
    "\n",
    "| Parameter                      | Value       | Justification                                                |\n",
    "| ------------------------------ | ----------- | ------------------------------------------------------------ |\n",
    "| Nominal Mixture Ratio          | 1           | Based on Sensitivity Study Conducted on Gas Generator Design |\n",
    "| Inlet Pressure ($P_o$)         | 20e5        | Based on Sensitivity Study Conducted on Gas Generator Design |\n",
    "| Inlet Temperature ($T_o$)      | 858 K       | Based on Sensitivity Study Conducted on Gas Generator Design |\n",
    "| Specific Heat Capacity ($C_p$) | 8575 J/kg K | Based on Sensitivity Study Conducted on Gas Generator Design |\n",
    "| Specific Heat Ratio ($\\gamma$) | 1.164       | Based on Sensitivity Study Conducted on Gas Generator Design |\n",
    "| Specific Gas Constant (R)      | 518.949 | Based on Sensitivity Study Conducted on Gas Generator Design |\n",
    "\n"
   ]
  },
  {
   "cell_type": "markdown",
   "id": "d6f89f13",
   "metadata": {},
   "source": [
    "For the sake of consistency, we will parameterise these inputs in an array as was previously shown."
   ]
  },
  {
   "cell_type": "code",
   "execution_count": 762,
   "id": "a7480b50",
   "metadata": {},
   "outputs": [],
   "source": [
    "dic_gg = {\n",
    "    \"P_cc\": 2500000.0,\n",
    "    \"MR\": np.float64(1.0),\n",
    "    \"T_o\": np.float64(869.3134455786856),\n",
    "    \"Cp\": np.float64(3660.915135137826),\n",
    "    \"gamma\": np.float64(1.1651672213813036),\n",
    "    \"R\": np.float64(518.9497005130706),\n",
    "    \"ox_stiffness\": 1.0,\n",
    "    \"fu_stiffness\": 1.0,\n",
    "    \"m_dot_t\": 0.038654999999999995,\n",
    "    \"m_dot_o\": np.float64(0.019327499999999997),\n",
    "    \"m_dot_f\": np.float64(0.019327499999999997),\n",
    "}\n",
    "\n",
    "dic_gg_geom = {\n",
    "    \"CdA_ox\": np.float64(3.077950794617968e-07),\n",
    "    \"CdA_fu\": np.float64(3.083041756036666e-07),\n",
    "    \"A_fu\": np.float64(7.707604390091664e-07),\n",
    "    \"A_ox\": np.float64(6.155901589235936e-07),\n",
    "    \"Acc\": 1.534339489187668e-05,\n",
    "}\n",
    "\n",
    "dic_rotor = {\n",
    "    \"N_shaft\": 24e3,\n",
    "    \"u_cis\": 0.13,\n",
    "    \"Rt\": 15,\n",
    "    \"phi_n\": 0.85,\n",
    "    \"alpha\": 70,\n",
    "    \"delta_r\": 2e-3,\n",
    "    \"N_nozzle\": 3,\n",
    "    \"N_rotor\": 15,\n",
    "}"
   ]
  },
  {
   "cell_type": "markdown",
   "id": "84059ffe",
   "metadata": {},
   "source": [
    "As we only have the power requirements for the pump, we must now derive the power requirements for the shaft, when considering the losses via the bearings and shaft seal."
   ]
  },
  {
   "cell_type": "markdown",
   "id": "3446aa76",
   "metadata": {},
   "source": [
    "## 3 - Power Requirements Considering Mechanical Losses"
   ]
  },
  {
   "cell_type": "markdown",
   "id": "c1588c81",
   "metadata": {},
   "source": [
    "In the shaft design, we have two bearings being used, along with a mechanical seal.\n",
    "\n",
    "Inorder to determine the losses, we will use `SKF` to estimate the resitive torques expected for both of these bearings.\n",
    "\n",
    "To do so, we need a rough estimation of what the forces carried by the bearings will be.\n",
    "\n",
    "A calculation was conducted in the `bearings.ipynb` document for the expected mechanical losses for the system, which was evaluated at approximately 1.6 kW.\n",
    "\n",
    "This brings the total power requirement for the turbine to 5.6 kW.\n",
    "\n",
    "We can take an additional 30% Margin against this power requirement, to derive a required turbine power of **7.28 kW**"
   ]
  },
  {
   "cell_type": "code",
   "execution_count": 763,
   "id": "296a21e7",
   "metadata": {},
   "outputs": [],
   "source": [
    "dic_rotor[\"power\"] = 7.28"
   ]
  },
  {
   "cell_type": "markdown",
   "id": "734e00b5",
   "metadata": {},
   "source": [
    "## 4 - Initialising our Runnning Parameters"
   ]
  },
  {
   "cell_type": "markdown",
   "id": "1b14172d",
   "metadata": {},
   "source": [
    "As this problem is an optimisation problem, we will manually initialise these until we reach a good operating point."
   ]
  },
  {
   "cell_type": "code",
   "execution_count": 670,
   "id": "8b47ad02",
   "metadata": {},
   "outputs": [],
   "source": [
    "b = 15e-3\n",
    "t = 5e-3"
   ]
  },
  {
   "cell_type": "markdown",
   "id": "b7b575e1",
   "metadata": {},
   "source": [
    "## 5 - Turbine Fluidic Design with Geometry Specification"
   ]
  },
  {
   "cell_type": "markdown",
   "id": "53d7d752",
   "metadata": {},
   "source": [
    "Based on these inputs, we can derive the required turbine power accordingly - using our refined loss model.\n",
    "\n",
    "The main parameter we will iterate on the GG mass flow rate untill we reach our target power. We will do an adjoint-esque iterative study until the power requirement is reached.\n",
    "\n",
    "We will instantiate an inital error of 0"
   ]
  },
  {
   "cell_type": "code",
   "execution_count": 764,
   "id": "d330bd1f",
   "metadata": {},
   "outputs": [],
   "source": [
    "error = 0"
   ]
  },
  {
   "cell_type": "markdown",
   "id": "7d6176b4",
   "metadata": {},
   "source": [
    "### 5.1 - Optimisation Loop for System Power"
   ]
  },
  {
   "cell_type": "markdown",
   "id": "f59a2b8c",
   "metadata": {},
   "source": [
    "We will use a relaxation factor of **0.4** for the adjoint solver based on the relative error from the target power."
   ]
  },
  {
   "cell_type": "code",
   "execution_count": 787,
   "id": "caa9128e",
   "metadata": {},
   "outputs": [],
   "source": [
    "relax = 0.4\n",
    "\n",
    "dm = dic_gg[\"m_dot_t\"]*error*relax\n",
    "\n",
    "dic_gg[\"m_dot_t\"] -= dm"
   ]
  },
  {
   "cell_type": "code",
   "execution_count": 788,
   "id": "f4ba80f6",
   "metadata": {},
   "outputs": [
    {
     "name": "stdout",
     "output_type": "stream",
     "text": [
      "Blade Chord Length: 21.827297401257393\n",
      "Blade Spacing: 9.82051492735344\n"
     ]
    }
   ],
   "source": [
    "print(f\"Blade Chord Length: {b*1e3}\")\n",
    "print(f\"Blade Spacing: {t*1e3}\")"
   ]
  },
  {
   "cell_type": "code",
   "execution_count": 789,
   "id": "0e680f66",
   "metadata": {},
   "outputs": [
    {
     "name": "stdout",
     "output_type": "stream",
     "text": [
      "Mach Number: 2.3788960750536274\n",
      "Mach Number: 1.9025668211850286\n",
      "Current Error: 20.71263848474734 %\n",
      "Current Error: 1.3549138499729088 %\n",
      "Current Error: 0.10361992762318352 %\n",
      "Current Error: 0.007837190929905728 %\n"
     ]
    }
   ],
   "source": [
    "fluid = IdealGas(\n",
    "    p=dic_gg[\"P_cc\"],\n",
    "    t=dic_gg[\"T_o\"],\n",
    "    gamma=round(dic_gg[\"gamma\"], 3),\n",
    "    cp=dic_gg[\"Cp\"],\n",
    "    R=dic_gg[\"R\"],\n",
    ")\n",
    "\n",
    "stage = TurbineStageDesign(gas=fluid, m_dot=dic_gg[\"m_dot_t\"], omega=dic_rotor[\"N_shaft\"], alpha=(90 - dic_rotor[\"alpha\"]))\n",
    "\n",
    "stage.set_operating_point(u_cis=dic_rotor[\"u_cis\"], Rt=dic_rotor[\"Rt\"], b=b, t=t, delta_r=dic_rotor[\"delta_r\"], N=dic_rotor[\"N_nozzle\"])\n",
    "\n",
    "result = stage.solve_performance(phi_n=dic_rotor[\"phi_n\"])"
   ]
  },
  {
   "cell_type": "markdown",
   "id": "ca14ba39",
   "metadata": {},
   "source": [
    "We can get out power produced and calculate our error to repeat once again."
   ]
  },
  {
   "cell_type": "code",
   "execution_count": 790,
   "id": "e5642279",
   "metadata": {},
   "outputs": [
    {
     "name": "stdout",
     "output_type": "stream",
     "text": [
      "Relative Error: -0.00 %\n"
     ]
    }
   ],
   "source": [
    "P = result[\"performance\"][\"Power\"] * 1e-3\n",
    "\n",
    "error = (P - dic_rotor[\"power\"]) / dic_rotor[\"power\"]\n",
    "\n",
    "print(f\"Relative Error: {error*1e2:.2f} %\")"
   ]
  },
  {
   "cell_type": "markdown",
   "id": "13f8bf55",
   "metadata": {},
   "source": [
    "**Final Gas Generator Mass Flow Rate**"
   ]
  },
  {
   "cell_type": "code",
   "execution_count": 791,
   "id": "cbd08159",
   "metadata": {},
   "outputs": [
    {
     "data": {
      "text/latex": [
       "\\[\n",
       "\\begin{aligned}\n",
       "m_{dot_{t}} &= 38.657 \\; \\;\\textrm{(g/s)}\n",
       "\\end{aligned}\n",
       "\\]"
      ],
      "text/plain": [
       "<IPython.core.display.Latex object>"
      ]
     },
     "metadata": {},
     "output_type": "display_data"
    }
   ],
   "source": [
    "%%render param\n",
    "\n",
    "m_dot_t = dic_gg[\"m_dot_t\"]*1e3 # g/s"
   ]
  },
  {
   "cell_type": "markdown",
   "id": "309559e6",
   "metadata": {},
   "source": [
    "### 5.2 - Getting System Performance"
   ]
  },
  {
   "cell_type": "markdown",
   "id": "0569eb31",
   "metadata": {},
   "source": [
    "We can now get an idea of the specific power of the turbine and the associated performance Metrics"
   ]
  },
  {
   "cell_type": "code",
   "execution_count": 770,
   "id": "31bafc1b",
   "metadata": {},
   "outputs": [],
   "source": [
    "performance_dic = result[\"performance\"]\n",
    "performance_dic = {k: [v] for k, v in performance_dic.items()}\n",
    "performance_df = pd.DataFrame(performance_dic)\n",
    "\n",
    "pressure_dic = result[\"pressure\"]\n",
    "pressure_dic = {k: [v] for k, v in pressure_dic.items()}\n",
    "pressure_df = pd.DataFrame(pressure_dic)\n",
    "\n",
    "velocity_dic = result[\"velocity\"]\n",
    "velocity_dic = {k: [v] for k, v in velocity_dic.items()}\n",
    "velocity_df = pd.DataFrame(velocity_dic)\n",
    "\n",
    "temperature_dic = result[\"temperature\"]\n",
    "temperature_dic = {k: [v] for k, v in temperature_dic.items()}\n",
    "temperature_df = pd.DataFrame(temperature_dic)\n",
    "\n",
    "geometry_dic = result[\"geometry\"]\n",
    "geometry_dic = {k: [v] for k, v in geometry_dic.items()}\n",
    "geometry_df = pd.DataFrame(geometry_dic)\n",
    "\n",
    "mach_dic = result[\"mach\"]\n",
    "mach_dic = {k: [v] for k, v in mach_dic.items()}\n",
    "mach_df = pd.DataFrame(mach_dic)\n",
    "\n",
    "angles_dic = result[\"angles\"]\n",
    "angles_dic = {k: [v] for k, v in angles_dic.items()}\n",
    "angles_df = pd.DataFrame(angles_dic)"
   ]
  },
  {
   "cell_type": "markdown",
   "id": "0db41926",
   "metadata": {},
   "source": [
    "**Performance**"
   ]
  },
  {
   "cell_type": "code",
   "execution_count": 771,
   "id": "98de5998",
   "metadata": {},
   "outputs": [
    {
     "data": {
      "text/html": [
       "<div>\n",
       "<style scoped>\n",
       "    .dataframe tbody tr th:only-of-type {\n",
       "        vertical-align: middle;\n",
       "    }\n",
       "\n",
       "    .dataframe tbody tr th {\n",
       "        vertical-align: top;\n",
       "    }\n",
       "\n",
       "    .dataframe thead th {\n",
       "        text-align: right;\n",
       "    }\n",
       "</style>\n",
       "<table border=\"1\" class=\"dataframe\">\n",
       "  <thead>\n",
       "    <tr style=\"text-align: right;\">\n",
       "      <th></th>\n",
       "      <th>dh</th>\n",
       "      <th>eps</th>\n",
       "      <th>phi_r</th>\n",
       "      <th>phi_l</th>\n",
       "      <th>m_leakage</th>\n",
       "      <th>eta_l</th>\n",
       "      <th>phi</th>\n",
       "      <th>eta_h</th>\n",
       "      <th>zeta_eps</th>\n",
       "      <th>eta_o</th>\n",
       "      <th>Power</th>\n",
       "      <th>Power (kW)</th>\n",
       "      <th>Torque (Nm)</th>\n",
       "    </tr>\n",
       "  </thead>\n",
       "  <tbody>\n",
       "    <tr>\n",
       "      <th>0</th>\n",
       "      <td>1.013804e+06</td>\n",
       "      <td>0.078898</td>\n",
       "      <td>0.650651</td>\n",
       "      <td>0.269486</td>\n",
       "      <td>0.010417</td>\n",
       "      <td>0.730514</td>\n",
       "      <td>0.85</td>\n",
       "      <td>0.282785</td>\n",
       "      <td>0.020823</td>\n",
       "      <td>0.185756</td>\n",
       "      <td>7279.514067</td>\n",
       "      <td>7.279514</td>\n",
       "      <td>2.78057</td>\n",
       "    </tr>\n",
       "  </tbody>\n",
       "</table>\n",
       "</div>"
      ],
      "text/plain": [
       "             dh       eps     phi_r     phi_l  m_leakage     eta_l   phi  \\\n",
       "0  1.013804e+06  0.078898  0.650651  0.269486   0.010417  0.730514  0.85   \n",
       "\n",
       "      eta_h  zeta_eps     eta_o        Power  Power (kW)  Torque (Nm)  \n",
       "0  0.282785  0.020823  0.185756  7279.514067    7.279514      2.78057  "
      ]
     },
     "execution_count": 771,
     "metadata": {},
     "output_type": "execute_result"
    }
   ],
   "source": [
    "performance_df[\"Power (kW)\"] = performance_df[\"Power\"].multiply(1e-3)\n",
    "performance_df[\"Torque (Nm)\"] = performance_df[\"Power\"] / (25000 * 2 *np.pi/60)\n",
    "\n",
    "performance_df"
   ]
  },
  {
   "cell_type": "markdown",
   "id": "ce2f6a04",
   "metadata": {},
   "source": [
    "As can be seen, we are getting an efficiency on the order of **45%** with a specific power of 987 kW/kg/s"
   ]
  },
  {
   "cell_type": "markdown",
   "id": "281dfc77",
   "metadata": {},
   "source": [
    "This works out to a GG size of the following:"
   ]
  },
  {
   "cell_type": "markdown",
   "id": "0e32adeb",
   "metadata": {},
   "source": [
    "**Pressures**"
   ]
  },
  {
   "cell_type": "code",
   "execution_count": 772,
   "id": "17ddc9af",
   "metadata": {},
   "outputs": [
    {
     "data": {
      "text/html": [
       "<div>\n",
       "<style scoped>\n",
       "    .dataframe tbody tr th:only-of-type {\n",
       "        vertical-align: middle;\n",
       "    }\n",
       "\n",
       "    .dataframe tbody tr th {\n",
       "        vertical-align: top;\n",
       "    }\n",
       "\n",
       "    .dataframe thead th {\n",
       "        text-align: right;\n",
       "    }\n",
       "</style>\n",
       "<table border=\"1\" class=\"dataframe\">\n",
       "  <thead>\n",
       "    <tr style=\"text-align: right;\">\n",
       "      <th></th>\n",
       "      <th>p_0</th>\n",
       "      <th>p_1</th>\n",
       "      <th>p_1o</th>\n",
       "      <th>p_1o_r</th>\n",
       "      <th>p_2o_r</th>\n",
       "      <th>p_2o</th>\n",
       "    </tr>\n",
       "  </thead>\n",
       "  <tbody>\n",
       "    <tr>\n",
       "      <th>0</th>\n",
       "      <td>25.0</td>\n",
       "      <td>1.666667</td>\n",
       "      <td>10.5772</td>\n",
       "      <td>6.79658</td>\n",
       "      <td>2.92681</td>\n",
       "      <td>2.333562</td>\n",
       "    </tr>\n",
       "  </tbody>\n",
       "</table>\n",
       "</div>"
      ],
      "text/plain": [
       "    p_0       p_1     p_1o   p_1o_r   p_2o_r      p_2o\n",
       "0  25.0  1.666667  10.5772  6.79658  2.92681  2.333562"
      ]
     },
     "execution_count": 772,
     "metadata": {},
     "output_type": "execute_result"
    }
   ],
   "source": [
    "pressure_df * 1e-5"
   ]
  },
  {
   "cell_type": "markdown",
   "id": "537769dd",
   "metadata": {},
   "source": [
    "**Temperatures**"
   ]
  },
  {
   "cell_type": "code",
   "execution_count": 773,
   "id": "ac285f90",
   "metadata": {},
   "outputs": [
    {
     "data": {
      "text/html": [
       "<div>\n",
       "<style scoped>\n",
       "    .dataframe tbody tr th:only-of-type {\n",
       "        vertical-align: middle;\n",
       "    }\n",
       "\n",
       "    .dataframe tbody tr th {\n",
       "        vertical-align: top;\n",
       "    }\n",
       "\n",
       "    .dataframe thead th {\n",
       "        text-align: right;\n",
       "    }\n",
       "</style>\n",
       "<table border=\"1\" class=\"dataframe\">\n",
       "  <thead>\n",
       "    <tr style=\"text-align: right;\">\n",
       "      <th></th>\n",
       "      <th>t_0</th>\n",
       "      <th>t_1</th>\n",
       "      <th>t_1o_r</th>\n",
       "      <th>t_2</th>\n",
       "      <th>t_2o</th>\n",
       "    </tr>\n",
       "  </thead>\n",
       "  <tbody>\n",
       "    <tr>\n",
       "      <th>0</th>\n",
       "      <td>869.313446</td>\n",
       "      <td>669.407979</td>\n",
       "      <td>816.529529</td>\n",
       "      <td>754.246075</td>\n",
       "      <td>791.070762</td>\n",
       "    </tr>\n",
       "  </tbody>\n",
       "</table>\n",
       "</div>"
      ],
      "text/plain": [
       "          t_0         t_1      t_1o_r         t_2        t_2o\n",
       "0  869.313446  669.407979  816.529529  754.246075  791.070762"
      ]
     },
     "execution_count": 773,
     "metadata": {},
     "output_type": "execute_result"
    }
   ],
   "source": [
    "temperature_df"
   ]
  },
  {
   "cell_type": "markdown",
   "id": "e7945195",
   "metadata": {},
   "source": [
    "**Geometry**"
   ]
  },
  {
   "cell_type": "code",
   "execution_count": 774,
   "id": "caeef526",
   "metadata": {},
   "outputs": [
    {
     "name": "stdout",
     "output_type": "stream",
     "text": [
      "Comparison of Throat Calculated using CEA: 5.5 %\n"
     ]
    },
    {
     "data": {
      "text/html": [
       "<div>\n",
       "<style scoped>\n",
       "    .dataframe tbody tr th:only-of-type {\n",
       "        vertical-align: middle;\n",
       "    }\n",
       "\n",
       "    .dataframe tbody tr th {\n",
       "        vertical-align: top;\n",
       "    }\n",
       "\n",
       "    .dataframe thead th {\n",
       "        text-align: right;\n",
       "    }\n",
       "</style>\n",
       "<table border=\"1\" class=\"dataframe\">\n",
       "  <thead>\n",
       "    <tr style=\"text-align: right;\">\n",
       "      <th></th>\n",
       "      <th>D_m</th>\n",
       "      <th>A_1</th>\n",
       "      <th>A_0</th>\n",
       "      <th>s_c</th>\n",
       "      <th>s_b</th>\n",
       "      <th>D_hub</th>\n",
       "      <th>D_tip</th>\n",
       "      <th>AR</th>\n",
       "      <th>Nozzle Throat (mm)</th>\n",
       "      <th>Nozzle Exit (mm)</th>\n",
       "      <th>eps</th>\n",
       "    </tr>\n",
       "  </thead>\n",
       "  <tbody>\n",
       "    <tr>\n",
       "      <th>0</th>\n",
       "      <td>0.147308</td>\n",
       "      <td>0.000067</td>\n",
       "      <td>0.000016</td>\n",
       "      <td>0.005315</td>\n",
       "      <td>0.007815</td>\n",
       "      <td>0.1434</td>\n",
       "      <td>0.151215</td>\n",
       "      <td>0.35805</td>\n",
       "      <td>2.55185</td>\n",
       "      <td>5.315272</td>\n",
       "      <td>4.112829</td>\n",
       "    </tr>\n",
       "  </tbody>\n",
       "</table>\n",
       "</div>"
      ],
      "text/plain": [
       "        D_m       A_1       A_0       s_c       s_b   D_hub     D_tip  \\\n",
       "0  0.147308  0.000067  0.000016  0.005315  0.007815  0.1434  0.151215   \n",
       "\n",
       "        AR  Nozzle Throat (mm)  Nozzle Exit (mm)       eps  \n",
       "0  0.35805             2.55185          5.315272  4.112829  "
      ]
     },
     "execution_count": 774,
     "metadata": {},
     "output_type": "execute_result"
    }
   ],
   "source": [
    "geometry_df[\"Nozzle Throat (mm)\"] = [(dic_gg_geom[\"Acc\"] / (dic_rotor[\"N_nozzle\"]* np.pi))**(1/2) * 2 * 1e3]\n",
    "geometry_df[\"Nozzle Exit (mm)\"] = geometry_df[\"s_c\"]*1e3\n",
    "geometry_df[\"eps\"] = geometry_df[\"A_1\"] / geometry_df[\"A_0\"]\n",
    "\n",
    "throat_error = (geometry_df[\"A_0\"][0] - dic_gg_geom[\"Acc\"] )/ dic_gg_geom[\"Acc\"]\n",
    "\n",
    "print(f\"Comparison of Throat Calculated using CEA: {throat_error*100:.1f} %\")\n",
    "\n",
    "geometry_df"
   ]
  },
  {
   "cell_type": "markdown",
   "id": "bce152f5",
   "metadata": {},
   "source": [
    "**Mach**"
   ]
  },
  {
   "cell_type": "code",
   "execution_count": 775,
   "id": "7ef77265",
   "metadata": {},
   "outputs": [
    {
     "data": {
      "text/html": [
       "<div>\n",
       "<style scoped>\n",
       "    .dataframe tbody tr th:only-of-type {\n",
       "        vertical-align: middle;\n",
       "    }\n",
       "\n",
       "    .dataframe tbody tr th {\n",
       "        vertical-align: top;\n",
       "    }\n",
       "\n",
       "    .dataframe thead th {\n",
       "        text-align: right;\n",
       "    }\n",
       "</style>\n",
       "<table border=\"1\" class=\"dataframe\">\n",
       "  <thead>\n",
       "    <tr style=\"text-align: right;\">\n",
       "      <th></th>\n",
       "      <th>m_star_c1</th>\n",
       "      <th>m_star_w1</th>\n",
       "      <th>m_star_w2</th>\n",
       "      <th>m_star_c2</th>\n",
       "    </tr>\n",
       "  </thead>\n",
       "  <tbody>\n",
       "    <tr>\n",
       "      <th>0</th>\n",
       "      <td>1.737045</td>\n",
       "      <td>1.537585</td>\n",
       "      <td>1.000432</td>\n",
       "      <td>0.745535</td>\n",
       "    </tr>\n",
       "  </tbody>\n",
       "</table>\n",
       "</div>"
      ],
      "text/plain": [
       "   m_star_c1  m_star_w1  m_star_w2  m_star_c2\n",
       "0   1.737045   1.537585   1.000432   0.745535"
      ]
     },
     "execution_count": 775,
     "metadata": {},
     "output_type": "execute_result"
    }
   ],
   "source": [
    "mach_df"
   ]
  },
  {
   "cell_type": "markdown",
   "id": "2e6c0553",
   "metadata": {},
   "source": [
    "**Angles**"
   ]
  },
  {
   "cell_type": "code",
   "execution_count": 776,
   "id": "71bae886",
   "metadata": {},
   "outputs": [
    {
     "data": {
      "text/html": [
       "<div>\n",
       "<style scoped>\n",
       "    .dataframe tbody tr th:only-of-type {\n",
       "        vertical-align: middle;\n",
       "    }\n",
       "\n",
       "    .dataframe tbody tr th {\n",
       "        vertical-align: top;\n",
       "    }\n",
       "\n",
       "    .dataframe thead th {\n",
       "        text-align: right;\n",
       "    }\n",
       "</style>\n",
       "<table border=\"1\" class=\"dataframe\">\n",
       "  <thead>\n",
       "    <tr style=\"text-align: right;\">\n",
       "      <th></th>\n",
       "      <th>beta_1</th>\n",
       "      <th>beta_2</th>\n",
       "      <th>alpha_2</th>\n",
       "    </tr>\n",
       "  </thead>\n",
       "  <tbody>\n",
       "    <tr>\n",
       "      <th>0</th>\n",
       "      <td>66.504234</td>\n",
       "      <td>89.51122</td>\n",
       "      <td>34.315713</td>\n",
       "    </tr>\n",
       "  </tbody>\n",
       "</table>\n",
       "</div>"
      ],
      "text/plain": [
       "      beta_1    beta_2    alpha_2\n",
       "0  66.504234  89.51122  34.315713"
      ]
     },
     "execution_count": 776,
     "metadata": {},
     "output_type": "execute_result"
    }
   ],
   "source": [
    "90 -angles_df"
   ]
  },
  {
   "cell_type": "markdown",
   "id": "2995c314",
   "metadata": {},
   "source": [
    "**Velocities**"
   ]
  },
  {
   "cell_type": "code",
   "execution_count": 777,
   "id": "a991ea29",
   "metadata": {},
   "outputs": [
    {
     "data": {
      "text/html": [
       "<div>\n",
       "<style scoped>\n",
       "    .dataframe tbody tr th:only-of-type {\n",
       "        vertical-align: middle;\n",
       "    }\n",
       "\n",
       "    .dataframe tbody tr th {\n",
       "        vertical-align: top;\n",
       "    }\n",
       "\n",
       "    .dataframe thead th {\n",
       "        text-align: right;\n",
       "    }\n",
       "</style>\n",
       "<table border=\"1\" class=\"dataframe\">\n",
       "  <thead>\n",
       "    <tr style=\"text-align: right;\">\n",
       "      <th></th>\n",
       "      <th>u</th>\n",
       "      <th>c_1s</th>\n",
       "      <th>c_1</th>\n",
       "      <th>w_1</th>\n",
       "      <th>a_star_2</th>\n",
       "      <th>w_2</th>\n",
       "      <th>c_2</th>\n",
       "      <th>a_star_3</th>\n",
       "    </tr>\n",
       "  </thead>\n",
       "  <tbody>\n",
       "    <tr>\n",
       "      <th>0</th>\n",
       "      <td>185.112345</td>\n",
       "      <td>1423.941118</td>\n",
       "      <td>1210.34995</td>\n",
       "      <td>1038.333265</td>\n",
       "      <td>675.301308</td>\n",
       "      <td>675.592729</td>\n",
       "      <td>519.479192</td>\n",
       "      <td>664.690252</td>\n",
       "    </tr>\n",
       "  </tbody>\n",
       "</table>\n",
       "</div>"
      ],
      "text/plain": [
       "            u         c_1s         c_1          w_1    a_star_2         w_2  \\\n",
       "0  185.112345  1423.941118  1210.34995  1038.333265  675.301308  675.592729   \n",
       "\n",
       "          c_2    a_star_3  \n",
       "0  519.479192  664.690252  "
      ]
     },
     "execution_count": 777,
     "metadata": {},
     "output_type": "execute_result"
    }
   ],
   "source": [
    "velocity_df"
   ]
  },
  {
   "cell_type": "markdown",
   "id": "8f415d28",
   "metadata": {},
   "source": [
    "## 6 - Profile Design"
   ]
  },
  {
   "cell_type": "markdown",
   "id": "0f6102e8",
   "metadata": {},
   "source": [
    "Here we can generate our turbine blade profile, by using the \"profiling\" submodule of the `turborocket` python package.\n",
    "\n",
    "A reasonable blade leading edge has been assumed for this analysis.\n",
    "\n",
    "A reverse computation is performed to evaluate for the inlet mach number, based on the inlet M_star number.\n",
    "\n",
    "We will assume a given number of blades at this stage"
   ]
  },
  {
   "cell_type": "code",
   "execution_count": 778,
   "id": "ac87630f",
   "metadata": {},
   "outputs": [
    {
     "name": "stdout",
     "output_type": "stream",
     "text": [
      "Initial Solidity: 2.689373220334694\n",
      "Final Solidity: 2.222622496144375\n"
     ]
    },
    {
     "data": {
      "text/plain": [
       "{'M_u_max': np.float64(1.9616449877937694),\n",
       " 'M_u_margin': np.float64(0.18887575017804212),\n",
       " 'M_l_min': np.float64(1.1184990644234003),\n",
       " 'M_l_margin': np.float64(0.0013401210505355396),\n",
       " 'M_e_max': np.float64(1.5373573750617366),\n",
       " 'M_e_margin': np.float64(0.028311013890438833)}"
      ]
     },
     "execution_count": 778,
     "metadata": {},
     "output_type": "execute_result"
    }
   ],
   "source": [
    "M_i = inv_M_star(M_star=mach_df[\"m_star_w1\"][0], gamma=fluid.get_gamma())\n",
    "\n",
    "M_star_w = mach_df[\"m_star_w1\"][0]\n",
    "\n",
    "super = SymmetricFiniteEdge(\n",
    "    beta_ei = (90 - angles_df[\"beta_1\"][0]),\n",
    "    beta_i = (90 - angles_df[\"beta_1\"][0]), \n",
    "    M_i=M_i,  # Relative Mach Numbers Nominally\n",
    "    M_u=1.65,\n",
    "    M_l=1.12,\n",
    "    m_dot=1,\n",
    "    h=10e-3,\n",
    "    t_g_rat=0.1,\n",
    "    g_expand=0.1,\n",
    "    le_angle=20,\n",
    "    fluid = fluid,\n",
    ")\n",
    "\n",
    "super.prantl_meyer()\n",
    "\n",
    "super.generate_turbine_profile()\n",
    "super.get_performance()"
   ]
  },
  {
   "cell_type": "markdown",
   "id": "f3187314",
   "metadata": {},
   "source": [
    "We can now get the geometry sized"
   ]
  },
  {
   "cell_type": "code",
   "execution_count": 779,
   "id": "5e821599",
   "metadata": {},
   "outputs": [
    {
     "name": "stdout",
     "output_type": "stream",
     "text": [
      "Blade Spacing: 9.82 mm\n",
      "Blade Chord Lenght: 21.83 mm\n"
     ]
    }
   ],
   "source": [
    "profile_geometry = super.size_geometry(D_m=geometry_df[\"D_m\"][0], N=dic_rotor[\"N_rotor\"])\n",
    "b = profile_geometry[\"b\"]\n",
    "t = profile_geometry[\"t\"]\n",
    "\n",
    "print(f\"Blade Spacing: {t*1e3:.2f} mm\")\n",
    "print(f\"Blade Chord Lenght: {b*1e3:.2f} mm\")"
   ]
  },
  {
   "cell_type": "markdown",
   "id": "e3559386",
   "metadata": {},
   "source": [
    "We can plot the passage geometry"
   ]
  },
  {
   "cell_type": "code",
   "execution_count": 780,
   "id": "3f9f5f36",
   "metadata": {},
   "outputs": [
    {
     "data": {
      "image/png": "[encoded data removed]",
      "text/plain": [
       "<Figure size 640x480 with 1 Axes>"
      ]
     },
     "metadata": {},
     "output_type": "display_data"
    }
   ],
   "source": [
    "super.plot_passage()\n"
   ]
  },
  {
   "cell_type": "markdown",
   "id": "9b502c71",
   "metadata": {},
   "source": [
    "Finally we can plot the scaled geometry"
   ]
  },
  {
   "cell_type": "code",
   "execution_count": 781,
   "id": "656aec2e",
   "metadata": {},
   "outputs": [
    {
     "data": {
      "image/png": "[encoded data removed]",
      "text/plain": [
       "<Figure size 640x480 with 1 Axes>"
      ]
     },
     "metadata": {},
     "output_type": "display_data"
    }
   ],
   "source": [
    "super.plot_scaled()"
   ]
  },
  {
   "cell_type": "markdown",
   "id": "cb4d3102",
   "metadata": {},
   "source": [
    "## 6 - Conclusion"
   ]
  },
  {
   "cell_type": "markdown",
   "id": "15f22c45",
   "metadata": {},
   "source": [
    "The following key Parameters have been derived from this study:\n",
    "\n",
    "| Parameter                | Value        |\n",
    "| ------------------------ | ------------ |\n",
    "| Gas Generator Mass Flow  | 28 g/s       |\n",
    "| Shaft Speed              | 25,000 rpm   |\n",
    "| Nozzle outlet Area       | 0.000044 m^2 |\n",
    "| Nozzle Throat (GG Param) | 0.000011 m^2             |\n",
    "|                          |              |"
   ]
  },
  {
   "cell_type": "markdown",
   "id": "d61e0d6e",
   "metadata": {},
   "source": [
    "The following Power Requirement is present"
   ]
  },
  {
   "cell_type": "code",
   "execution_count": 22,
   "id": "49cb0e4c",
   "metadata": {},
   "outputs": [
    {
     "data": {
      "text/latex": [
       "\\[\n",
       "\\begin{aligned}\n",
       "\\mathrm{acceptable} &= 1.000 \\; \n",
       " &\\mathrm{Power} &= 10.510 \\;\n",
       "\\end{aligned}\n",
       "\\]"
      ],
      "text/plain": [
       "<IPython.core.display.Latex object>"
      ]
     },
     "metadata": {},
     "output_type": "display_data"
    }
   ],
   "source": [
    "%%render params\n",
    "\n",
    "acceptable = (dic_rotor[\"power\"] < performance_df[\"Power (kW)\"][0])\n",
    "\n",
    "Power = performance_df[\"Power (kW)\"][0]"
   ]
  }
 ],
 "metadata": {
  "kernelspec": {
   "display_name": ".venv",
   "language": "python",
   "name": "python3"
  },
  "language_info": {
   "codemirror_mode": {
    "name": "ipython",
    "version": 3
   },
   "file_extension": ".py",
   "mimetype": "text/x-python",
   "name": "python",
   "nbconvert_exporter": "python",
   "pygments_lexer": "ipython3",
   "version": "3.11.3"
  }
 },
 "nbformat": 4,
 "nbformat_minor": 5
}
