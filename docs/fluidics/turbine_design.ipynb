{
 "cells": [
  {
   "cell_type": "markdown",
   "id": "5306acb5",
   "metadata": {},
   "source": [
    "# CDR: High Level Turbine Design"
   ]
  },
  {
   "cell_type": "markdown",
   "id": "d1bb5f56",
   "metadata": {},
   "source": [
    "> Author: Elias Aoubala\n",
    "\n",
    "> Date: 21/04/2025"
   ]
  },
  {
   "cell_type": "code",
   "execution_count": 1,
   "id": "20a84c5b",
   "metadata": {},
   "outputs": [],
   "source": [
    "from turborocket.meanline.meanline_relations import TurbineStageDesign\n",
    "from turborocket.fluids.fluids import IdealGas\n",
    "import numpy as np\n",
    "import pandas as pd\n",
    "import handcalcs.render"
   ]
  },
  {
   "cell_type": "markdown",
   "id": "f796e122",
   "metadata": {},
   "source": [
    "## 1 - Background"
   ]
  },
  {
   "cell_type": "markdown",
   "id": "23648d20",
   "metadata": {},
   "source": [
    "This document encapsulates the work towards the development of the second iteration of the turbine stage of the \"Mermaidman and Barnacle Boy\" turbopump being developed by the Open Turbopumps amature group.\n",
    "\n",
    "This document highlights the high-level fluidic design and analyiss conducted for the turbine."
   ]
  },
  {
   "cell_type": "markdown",
   "id": "dd0ba64d",
   "metadata": {},
   "source": [
    "## 2 - High-Level Specifications"
   ]
  },
  {
   "cell_type": "markdown",
   "id": "2ca1878d",
   "metadata": {},
   "source": [
    "Based on the previous studies performed, the following key inputs have been used on the high-level turbine design:\n",
    "\n",
    "| Parameter        | Value      | Justification                                                                                                       |\n",
    "| ---------------- | ---------- | ------------------------------------------------------------------------------------------------------------------- |\n",
    "| Shaft Speed      | 30,000 RPM | Based on the preliminary rotor dynamic analysis, advancing the shaft speed to 30,000 RPM was identified as feasible |\n",
    "| Pump Power      | 4 kW       | This is the most up-to date pump power requirement                                                                  |\n",
    "\n",
    "The following inputs from the gas-generator study have additionally been provided:\n",
    "\n",
    "| Parameter                      | Value       | Justification                                                |\n",
    "| ------------------------------ | ----------- | ------------------------------------------------------------ |\n",
    "| Nominal Mixture Ratio          | 1           | Based on Sensitivity Study Conducted on Gas Generator Design |\n",
    "| Inlet Pressure ($P_o$)         | 20e5        | Based on Sensitivity Study Conducted on Gas Generator Design |\n",
    "| Inlet Temperature ($T_o$)      | 858 K       | Based on Sensitivity Study Conducted on Gas Generator Design |\n",
    "| Specific Heat Capacity ($C_p$) | 8575 J/kg K | Based on Sensitivity Study Conducted on Gas Generator Design |\n",
    "| Specific Heat Ratio ($\\gamma$) | 1.164       | Based on Sensitivity Study Conducted on Gas Generator Design |\n",
    "| Specific Gas Constant (R)      | 518.949 | Based on Sensitivity Study Conducted on Gas Generator Design |\n",
    "\n"
   ]
  },
  {
   "cell_type": "markdown",
   "id": "d6f89f13",
   "metadata": {},
   "source": [
    "For the sake of consistency, we will parameterise these inputs in an array as was previously shown."
   ]
  },
  {
   "cell_type": "code",
   "execution_count": 21,
   "id": "a7480b50",
   "metadata": {},
   "outputs": [],
   "source": [
    "dic = {\n",
    "    \"P_cc\": 2500000.0,\n",
    "    \"MR\": np.float64(1.0),\n",
    "    \"T_o\": np.float64(869.3134455786856),\n",
    "    \"Cp\": np.float64(8470.21517719776),\n",
    "    \"gamma\": np.float64(1.1651672213813036),\n",
    "    \"R\": np.float64(518.9497005130706),\n",
    "    \"ox_stiffness\": 1.0,\n",
    "    \"fu_stiffness\": 1.0,\n",
    "    \"m_dot_t\": 0.1,\n",
    "    \"m_dot_o\": np.float64(0.05),\n",
    "    \"m_dot_f\": np.float64(0.05),\n",
    "}"
   ]
  },
  {
   "cell_type": "markdown",
   "id": "84059ffe",
   "metadata": {},
   "source": [
    "As we only have the power requirements for the pump, we must now derive the power requirements for the shaft, when considering the losses via the bearings and shaft seal."
   ]
  },
  {
   "cell_type": "markdown",
   "id": "3446aa76",
   "metadata": {},
   "source": [
    "## 3 - Power Requirements Considering Mechanical Losses"
   ]
  },
  {
   "cell_type": "markdown",
   "id": "c1588c81",
   "metadata": {},
   "source": [
    "In the shaft design, we have two bearings being used, along with a mechanical seal.\n",
    "\n",
    "Inorder to determine the losses, we will use `SKF` to estimate the resitive torques expected for both of these bearings.\n",
    "\n",
    "To do so, we need a rough estimation of what the forces carried by the bearings will be.\n",
    "\n",
    "A calculation was conducted in the `bearings.ipynb` document for the expected mechanical losses for the system, which was evaluated at approximately 1.6 kW.\n",
    "\n",
    "This brings the total power requirement for the turbine to 5.6 kW.\n",
    "\n",
    "We can take an additional 25% Margin against this power requirement, to derive a required turbine power of **7 kW**"
   ]
  },
  {
   "cell_type": "markdown",
   "id": "b7b575e1",
   "metadata": {},
   "source": [
    "## 4 - Turbine Fluidic Design with Geometry Specification"
   ]
  },
  {
   "cell_type": "markdown",
   "id": "53d7d752",
   "metadata": {},
   "source": [
    "Based on these inputs, we can derive the required turbine power accordingly - using our refined loss model.\n",
    "\n",
    "We will iterate through a range of u/c_is values to see how our exit conditions vary and how the specific power is like."
   ]
  },
  {
   "cell_type": "code",
   "execution_count": 234,
   "id": "0e680f66",
   "metadata": {},
   "outputs": [
    {
     "name": "stdout",
     "output_type": "stream",
     "text": [
      "Current Error: 11.95386133278994 %\n",
      "Current Error: 0.8301263990596084 %\n",
      "Current Error: 0.05157849514192885 %\n",
      "Current Error: 0.0032281942995786837 %\n"
     ]
    }
   ],
   "source": [
    "R = dic[\"Cp\"] * (dic[\"gamma\"] - 1) / dic[\"gamma\"]\n",
    "\n",
    "fluid = IdealGas(p=dic[\"P_cc\"], t=dic[\"T_o\"], gamma=dic[\"gamma\"], cp=dic[\"Cp\"], R = R)\n",
    "\n",
    "\n",
    "alpha_i = 70\n",
    "\n",
    "stage = TurbineStageDesign(gas=fluid, m_dot=28e-3, omega=25000, alpha=(90 - alpha_i))\n",
    "\n",
    "stage.set_operating_point(u_cis=0.1, Rt=9, b=15e-3, t=5e-3, delta_r=2e-3, N=6)\n",
    "\n",
    "result = stage.solve_performance()"
   ]
  },
  {
   "cell_type": "markdown",
   "id": "0569eb31",
   "metadata": {},
   "source": [
    "We can now get an idea of the specific power of the turbine and the associated performance Metrics"
   ]
  },
  {
   "cell_type": "code",
   "execution_count": 235,
   "id": "31bafc1b",
   "metadata": {},
   "outputs": [],
   "source": [
    "performance_dic = result[\"performance\"]\n",
    "performance_dic = {k: [v] for k, v in performance_dic.items()}\n",
    "performance_df = pd.DataFrame(performance_dic)\n",
    "\n",
    "pressure_dic = result[\"pressure\"]\n",
    "pressure_dic = {k: [v] for k, v in pressure_dic.items()}\n",
    "pressure_df = pd.DataFrame(pressure_dic)\n",
    "\n",
    "velocity_dic = result[\"velocity\"]\n",
    "velocity_dic = {k: [v] for k, v in velocity_dic.items()}\n",
    "velocity_df = pd.DataFrame(velocity_dic)\n",
    "\n",
    "temperature_dic = result[\"temperature\"]\n",
    "temperature_dic = {k: [v] for k, v in temperature_dic.items()}\n",
    "temperature_df = pd.DataFrame(temperature_dic)\n",
    "\n",
    "geometry_dic = result[\"geometry\"]\n",
    "geometry_dic = {k: [v] for k, v in geometry_dic.items()}\n",
    "geometry_df = pd.DataFrame(geometry_dic)\n",
    "\n",
    "mach_dic = result[\"mach\"]\n",
    "mach_dic = {k: [v] for k, v in mach_dic.items()}\n",
    "mach_df = pd.DataFrame(mach_dic)\n",
    "\n",
    "angles_dic = result[\"angles\"]\n",
    "angles_dic = {k: [v] for k, v in angles_dic.items()}\n",
    "angles_df = pd.DataFrame(angles_dic)"
   ]
  },
  {
   "cell_type": "markdown",
   "id": "0db41926",
   "metadata": {},
   "source": [
    "**Performance**"
   ]
  },
  {
   "cell_type": "code",
   "execution_count": 236,
   "id": "98de5998",
   "metadata": {},
   "outputs": [
    {
     "data": {
      "text/html": [
       "<div>\n",
       "<style scoped>\n",
       "    .dataframe tbody tr th:only-of-type {\n",
       "        vertical-align: middle;\n",
       "    }\n",
       "\n",
       "    .dataframe tbody tr th {\n",
       "        vertical-align: top;\n",
       "    }\n",
       "\n",
       "    .dataframe thead th {\n",
       "        text-align: right;\n",
       "    }\n",
       "</style>\n",
       "<table border=\"1\" class=\"dataframe\">\n",
       "  <thead>\n",
       "    <tr style=\"text-align: right;\">\n",
       "      <th></th>\n",
       "      <th>dh</th>\n",
       "      <th>eps</th>\n",
       "      <th>phi_r</th>\n",
       "      <th>phi_l</th>\n",
       "      <th>m_leakage</th>\n",
       "      <th>eta_l</th>\n",
       "      <th>phi</th>\n",
       "      <th>eta_h</th>\n",
       "      <th>zeta_eps</th>\n",
       "      <th>eta_o</th>\n",
       "      <th>Power</th>\n",
       "      <th>Power (kW)</th>\n",
       "      <th>Torque (Nm)</th>\n",
       "    </tr>\n",
       "  </thead>\n",
       "  <tbody>\n",
       "    <tr>\n",
       "      <th>0</th>\n",
       "      <td>1.970612e+06</td>\n",
       "      <td>0.088157</td>\n",
       "      <td>0.693719</td>\n",
       "      <td>0.373641</td>\n",
       "      <td>0.010462</td>\n",
       "      <td>0.626359</td>\n",
       "      <td>0.93</td>\n",
       "      <td>0.263993</td>\n",
       "      <td>0.010091</td>\n",
       "      <td>0.155263</td>\n",
       "      <td>8566.964135</td>\n",
       "      <td>8.566964</td>\n",
       "      <td>3.272339</td>\n",
       "    </tr>\n",
       "  </tbody>\n",
       "</table>\n",
       "</div>"
      ],
      "text/plain": [
       "             dh       eps     phi_r     phi_l  m_leakage     eta_l   phi  \\\n",
       "0  1.970612e+06  0.088157  0.693719  0.373641   0.010462  0.626359  0.93   \n",
       "\n",
       "      eta_h  zeta_eps     eta_o        Power  Power (kW)  Torque (Nm)  \n",
       "0  0.263993  0.010091  0.155263  8566.964135    8.566964     3.272339  "
      ]
     },
     "execution_count": 236,
     "metadata": {},
     "output_type": "execute_result"
    }
   ],
   "source": [
    "performance_df[\"Power (kW)\"] = performance_df[\"Power\"].multiply(1e-3)\n",
    "performance_df[\"Torque (Nm)\"] = performance_df[\"Power\"] / (25000 * 2 *np.pi/60)\n",
    "\n",
    "performance_df"
   ]
  },
  {
   "cell_type": "markdown",
   "id": "ce2f6a04",
   "metadata": {},
   "source": [
    "As can be seen, we are getting an efficiency on the order of **45%** with a specific power of 987 kW/kg/s"
   ]
  },
  {
   "cell_type": "markdown",
   "id": "281dfc77",
   "metadata": {},
   "source": [
    "This works out to a GG size of the following:"
   ]
  },
  {
   "cell_type": "markdown",
   "id": "0e32adeb",
   "metadata": {},
   "source": [
    "**Pressures**"
   ]
  },
  {
   "cell_type": "code",
   "execution_count": 237,
   "id": "17ddc9af",
   "metadata": {},
   "outputs": [
    {
     "data": {
      "text/html": [
       "<div>\n",
       "<style scoped>\n",
       "    .dataframe tbody tr th:only-of-type {\n",
       "        vertical-align: middle;\n",
       "    }\n",
       "\n",
       "    .dataframe tbody tr th {\n",
       "        vertical-align: top;\n",
       "    }\n",
       "\n",
       "    .dataframe thead th {\n",
       "        text-align: right;\n",
       "    }\n",
       "</style>\n",
       "<table border=\"1\" class=\"dataframe\">\n",
       "  <thead>\n",
       "    <tr style=\"text-align: right;\">\n",
       "      <th></th>\n",
       "      <th>p_0</th>\n",
       "      <th>p_1</th>\n",
       "      <th>p_1o</th>\n",
       "      <th>p_1o_r</th>\n",
       "      <th>p_2o_r</th>\n",
       "      <th>p_2o</th>\n",
       "    </tr>\n",
       "  </thead>\n",
       "  <tbody>\n",
       "    <tr>\n",
       "      <th>0</th>\n",
       "      <td>25.0</td>\n",
       "      <td>2.777778</td>\n",
       "      <td>17.795195</td>\n",
       "      <td>12.945591</td>\n",
       "      <td>5.587996</td>\n",
       "      <td>4.580923</td>\n",
       "    </tr>\n",
       "  </tbody>\n",
       "</table>\n",
       "</div>"
      ],
      "text/plain": [
       "    p_0       p_1       p_1o     p_1o_r    p_2o_r      p_2o\n",
       "0  25.0  2.777778  17.795195  12.945591  5.587996  4.580923"
      ]
     },
     "execution_count": 237,
     "metadata": {},
     "output_type": "execute_result"
    }
   ],
   "source": [
    "pressure_df * 1e-5"
   ]
  },
  {
   "cell_type": "markdown",
   "id": "537769dd",
   "metadata": {},
   "source": [
    "**Temperatures**"
   ]
  },
  {
   "cell_type": "code",
   "execution_count": 238,
   "id": "ac285f90",
   "metadata": {},
   "outputs": [
    {
     "data": {
      "text/html": [
       "<div>\n",
       "<style scoped>\n",
       "    .dataframe tbody tr th:only-of-type {\n",
       "        vertical-align: middle;\n",
       "    }\n",
       "\n",
       "    .dataframe tbody tr th {\n",
       "        vertical-align: top;\n",
       "    }\n",
       "\n",
       "    .dataframe thead th {\n",
       "        text-align: right;\n",
       "    }\n",
       "</style>\n",
       "<table border=\"1\" class=\"dataframe\">\n",
       "  <thead>\n",
       "    <tr style=\"text-align: right;\">\n",
       "      <th></th>\n",
       "      <th>t_0</th>\n",
       "      <th>t_1</th>\n",
       "      <th>t_1o_r</th>\n",
       "      <th>t_2</th>\n",
       "      <th>t_2o</th>\n",
       "    </tr>\n",
       "  </thead>\n",
       "  <tbody>\n",
       "    <tr>\n",
       "      <th>0</th>\n",
       "      <td>869.313446</td>\n",
       "      <td>668.092814</td>\n",
       "      <td>830.976407</td>\n",
       "      <td>752.589262</td>\n",
       "      <td>807.894918</td>\n",
       "    </tr>\n",
       "  </tbody>\n",
       "</table>\n",
       "</div>"
      ],
      "text/plain": [
       "          t_0         t_1      t_1o_r         t_2        t_2o\n",
       "0  869.313446  668.092814  830.976407  752.589262  807.894918"
      ]
     },
     "execution_count": 238,
     "metadata": {},
     "output_type": "execute_result"
    }
   ],
   "source": [
    "temperature_df"
   ]
  },
  {
   "cell_type": "markdown",
   "id": "e7945195",
   "metadata": {},
   "source": [
    "**Geometry**"
   ]
  },
  {
   "cell_type": "code",
   "execution_count": 239,
   "id": "caeef526",
   "metadata": {},
   "outputs": [
    {
     "data": {
      "text/html": [
       "<div>\n",
       "<style scoped>\n",
       "    .dataframe tbody tr th:only-of-type {\n",
       "        vertical-align: middle;\n",
       "    }\n",
       "\n",
       "    .dataframe tbody tr th {\n",
       "        vertical-align: top;\n",
       "    }\n",
       "\n",
       "    .dataframe thead th {\n",
       "        text-align: right;\n",
       "    }\n",
       "</style>\n",
       "<table border=\"1\" class=\"dataframe\">\n",
       "  <thead>\n",
       "    <tr style=\"text-align: right;\">\n",
       "      <th></th>\n",
       "      <th>D_m</th>\n",
       "      <th>A_1</th>\n",
       "      <th>s_c</th>\n",
       "      <th>s_b</th>\n",
       "      <th>D_hub</th>\n",
       "      <th>D_tip</th>\n",
       "      <th>AR</th>\n",
       "    </tr>\n",
       "  </thead>\n",
       "  <tbody>\n",
       "    <tr>\n",
       "      <th>0</th>\n",
       "      <td>0.151662</td>\n",
       "      <td>0.000044</td>\n",
       "      <td>0.003049</td>\n",
       "      <td>0.005549</td>\n",
       "      <td>0.148888</td>\n",
       "      <td>0.154436</td>\n",
       "      <td>0.369904</td>\n",
       "    </tr>\n",
       "  </tbody>\n",
       "</table>\n",
       "</div>"
      ],
      "text/plain": [
       "        D_m       A_1       s_c       s_b     D_hub     D_tip        AR\n",
       "0  0.151662  0.000044  0.003049  0.005549  0.148888  0.154436  0.369904"
      ]
     },
     "execution_count": 239,
     "metadata": {},
     "output_type": "execute_result"
    }
   ],
   "source": [
    "geometry_df"
   ]
  },
  {
   "cell_type": "markdown",
   "id": "bce152f5",
   "metadata": {},
   "source": [
    "**Mach**"
   ]
  },
  {
   "cell_type": "code",
   "execution_count": 240,
   "id": "7ef77265",
   "metadata": {},
   "outputs": [
    {
     "data": {
      "text/html": [
       "<div>\n",
       "<style scoped>\n",
       "    .dataframe tbody tr th:only-of-type {\n",
       "        vertical-align: middle;\n",
       "    }\n",
       "\n",
       "    .dataframe tbody tr th {\n",
       "        vertical-align: top;\n",
       "    }\n",
       "\n",
       "    .dataframe thead th {\n",
       "        text-align: right;\n",
       "    }\n",
       "</style>\n",
       "<table border=\"1\" class=\"dataframe\">\n",
       "  <thead>\n",
       "    <tr style=\"text-align: right;\">\n",
       "      <th></th>\n",
       "      <th>m_star_c1</th>\n",
       "      <th>m_star_w1</th>\n",
       "      <th>m_star_w2</th>\n",
       "      <th>m_star_c2</th>\n",
       "    </tr>\n",
       "  </thead>\n",
       "  <tbody>\n",
       "    <tr>\n",
       "      <th>0</th>\n",
       "      <td>1.741935</td>\n",
       "      <td>1.60298</td>\n",
       "      <td>1.112018</td>\n",
       "      <td>0.91323</td>\n",
       "    </tr>\n",
       "  </tbody>\n",
       "</table>\n",
       "</div>"
      ],
      "text/plain": [
       "   m_star_c1  m_star_w1  m_star_w2  m_star_c2\n",
       "0   1.741935    1.60298   1.112018    0.91323"
      ]
     },
     "execution_count": 240,
     "metadata": {},
     "output_type": "execute_result"
    }
   ],
   "source": [
    "mach_df"
   ]
  },
  {
   "cell_type": "markdown",
   "id": "2e6c0553",
   "metadata": {},
   "source": [
    "**Angles**"
   ]
  },
  {
   "cell_type": "code",
   "execution_count": 241,
   "id": "71bae886",
   "metadata": {},
   "outputs": [
    {
     "data": {
      "text/html": [
       "<div>\n",
       "<style scoped>\n",
       "    .dataframe tbody tr th:only-of-type {\n",
       "        vertical-align: middle;\n",
       "    }\n",
       "\n",
       "    .dataframe tbody tr th {\n",
       "        vertical-align: top;\n",
       "    }\n",
       "\n",
       "    .dataframe thead th {\n",
       "        text-align: right;\n",
       "    }\n",
       "</style>\n",
       "<table border=\"1\" class=\"dataframe\">\n",
       "  <thead>\n",
       "    <tr style=\"text-align: right;\">\n",
       "      <th></th>\n",
       "      <th>beta_1</th>\n",
       "      <th>beta_2</th>\n",
       "      <th>alpha_2</th>\n",
       "    </tr>\n",
       "  </thead>\n",
       "  <tbody>\n",
       "    <tr>\n",
       "      <th>0</th>\n",
       "      <td>67.657336</td>\n",
       "      <td>89.653979</td>\n",
       "      <td>62.931618</td>\n",
       "    </tr>\n",
       "  </tbody>\n",
       "</table>\n",
       "</div>"
      ],
      "text/plain": [
       "      beta_1     beta_2    alpha_2\n",
       "0  67.657336  89.653979  62.931618"
      ]
     },
     "execution_count": 241,
     "metadata": {},
     "output_type": "execute_result"
    }
   ],
   "source": [
    "90 -angles_df"
   ]
  },
  {
   "cell_type": "markdown",
   "id": "2995c314",
   "metadata": {},
   "source": [
    "**Velocities**"
   ]
  },
  {
   "cell_type": "code",
   "execution_count": 242,
   "id": "a991ea29",
   "metadata": {},
   "outputs": [
    {
     "data": {
      "text/html": [
       "<div>\n",
       "<style scoped>\n",
       "    .dataframe tbody tr th:only-of-type {\n",
       "        vertical-align: middle;\n",
       "    }\n",
       "\n",
       "    .dataframe tbody tr th {\n",
       "        vertical-align: top;\n",
       "    }\n",
       "\n",
       "    .dataframe thead th {\n",
       "        text-align: right;\n",
       "    }\n",
       "</style>\n",
       "<table border=\"1\" class=\"dataframe\">\n",
       "  <thead>\n",
       "    <tr style=\"text-align: right;\">\n",
       "      <th></th>\n",
       "      <th>u</th>\n",
       "      <th>c_1s</th>\n",
       "      <th>c_1</th>\n",
       "      <th>w_1</th>\n",
       "      <th>a_star_2</th>\n",
       "      <th>w_2</th>\n",
       "      <th>c_2</th>\n",
       "      <th>a_star_3</th>\n",
       "    </tr>\n",
       "  </thead>\n",
       "  <tbody>\n",
       "    <tr>\n",
       "      <th>0</th>\n",
       "      <td>198.525146</td>\n",
       "      <td>1985.251464</td>\n",
       "      <td>1846.283862</td>\n",
       "      <td>1661.119552</td>\n",
       "      <td>1036.269643</td>\n",
       "      <td>1152.350628</td>\n",
       "      <td>967.936782</td>\n",
       "      <td>1021.776399</td>\n",
       "    </tr>\n",
       "  </tbody>\n",
       "</table>\n",
       "</div>"
      ],
      "text/plain": [
       "            u         c_1s          c_1          w_1     a_star_2  \\\n",
       "0  198.525146  1985.251464  1846.283862  1661.119552  1036.269643   \n",
       "\n",
       "           w_2         c_2     a_star_3  \n",
       "0  1152.350628  967.936782  1021.776399  "
      ]
     },
     "execution_count": 242,
     "metadata": {},
     "output_type": "execute_result"
    }
   ],
   "source": [
    "velocity_df"
   ]
  },
  {
   "cell_type": "markdown",
   "id": "8f415d28",
   "metadata": {},
   "source": [
    "## 5 - Profile Design"
   ]
  },
  {
   "cell_type": "markdown",
   "id": "0f6102e8",
   "metadata": {},
   "source": []
  },
  {
   "cell_type": "markdown",
   "id": "cb4d3102",
   "metadata": {},
   "source": [
    "## 6 - Conclusion"
   ]
  },
  {
   "cell_type": "markdown",
   "id": "15f22c45",
   "metadata": {},
   "source": [
    "The following key Parameters have been derived from this study:\n",
    "\n",
    "| Parameter                | Value        |\n",
    "| ------------------------ | ------------ |\n",
    "| Gas Generator Mass Flow  | 28 g/s       |\n",
    "| Shaft Speed              | 25,000 rpm   |\n",
    "| Nozzle outlet Area       | 0.000044 m^2 |\n",
    "| Nozzle Throat (GG Param) | 0.000011 m^2             |\n",
    "|                          |              |"
   ]
  }
 ],
 "metadata": {
  "kernelspec": {
   "display_name": ".venv",
   "language": "python",
   "name": "python3"
  },
  "language_info": {
   "codemirror_mode": {
    "name": "ipython",
    "version": 3
   },
   "file_extension": ".py",
   "mimetype": "text/x-python",
   "name": "python",
   "nbconvert_exporter": "python",
   "pygments_lexer": "ipython3",
   "version": "3.11.3"
  }
 },
 "nbformat": 4,
 "nbformat_minor": 5
}
