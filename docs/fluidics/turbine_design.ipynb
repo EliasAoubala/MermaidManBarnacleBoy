{
 "cells": [
  {
   "cell_type": "markdown",
   "id": "5306acb5",
   "metadata": {},
   "source": [
    "# CDR: High Level Turbine Design"
   ]
  },
  {
   "cell_type": "markdown",
   "id": "d1bb5f56",
   "metadata": {},
   "source": [
    "> Author: Elias Aoubala\n",
    "\n",
    "> Date: 21/04/2025"
   ]
  },
  {
   "cell_type": "code",
   "execution_count": 1,
   "id": "20a84c5b",
   "metadata": {},
   "outputs": [],
   "source": [
    "from turborocket.meanline.meanline_relations import TurbineStageDesign\n",
    "from turborocket.fluids.fluids import IdealGas\n",
    "from turborocket.profiling.Supersonic.supersonic_profile import SymmetricFiniteEdge\n",
    "from turborocket.profiling.Supersonic.circular import inv_M_star, M_star\n",
    "import numpy as np\n",
    "import pandas as pd\n",
    "import handcalcs.render\n",
    "import matplotlib.pyplot as plt"
   ]
  },
  {
   "cell_type": "markdown",
   "id": "f796e122",
   "metadata": {},
   "source": [
    "## 1 - Background"
   ]
  },
  {
   "cell_type": "markdown",
   "id": "23648d20",
   "metadata": {},
   "source": [
    "This document encapsulates the work towards the development of the second iteration of the turbine stage of the \"Mermaidman and Barnacle Boy\" turbopump being developed by the Open Turbopumps amature group.\n",
    "\n",
    "This document highlights the high-level fluidic design and analyiss conducted for the turbine."
   ]
  },
  {
   "cell_type": "markdown",
   "id": "dd0ba64d",
   "metadata": {},
   "source": [
    "## 2 - High-Level Specifications"
   ]
  },
  {
   "cell_type": "markdown",
   "id": "2ca1878d",
   "metadata": {},
   "source": [
    "Based on the previous studies performed, the following key inputs have been used on the high-level turbine design:\n",
    "\n",
    "| Parameter        | Value      | Justification                                                                                                       |\n",
    "| ---------------- | ---------- | ------------------------------------------------------------------------------------------------------------------- |\n",
    "| Shaft Speed      | 30,000 RPM | Based on the preliminary rotor dynamic analysis, advancing the shaft speed to 30,000 RPM was identified as feasible |\n",
    "| Pump Power      | 4 kW       | This is the most up-to date pump power requirement                                                                  |\n",
    "\n",
    "The following inputs from the gas-generator study have additionally been provided:\n",
    "\n",
    "| Parameter                      | Value       | Justification                                                |\n",
    "| ------------------------------ | ----------- | ------------------------------------------------------------ |\n",
    "| Nominal Mixture Ratio          | 1           | Based on Sensitivity Study Conducted on Gas Generator Design |\n",
    "| Inlet Pressure ($P_o$)         | 20e5        | Based on Sensitivity Study Conducted on Gas Generator Design |\n",
    "| Inlet Temperature ($T_o$)      | 858 K       | Based on Sensitivity Study Conducted on Gas Generator Design |\n",
    "| Specific Heat Capacity ($C_p$) | 8575 J/kg K | Based on Sensitivity Study Conducted on Gas Generator Design |\n",
    "| Specific Heat Ratio ($\\gamma$) | 1.164       | Based on Sensitivity Study Conducted on Gas Generator Design |\n",
    "| Specific Gas Constant (R)      | 518.949 | Based on Sensitivity Study Conducted on Gas Generator Design |\n",
    "\n"
   ]
  },
  {
   "cell_type": "markdown",
   "id": "d6f89f13",
   "metadata": {},
   "source": [
    "For the sake of consistency, we will parameterise these inputs in an array as was previously shown."
   ]
  },
  {
   "cell_type": "code",
   "execution_count": 2,
   "id": "a7480b50",
   "metadata": {},
   "outputs": [],
   "source": [
    "dic_gg = {\n",
    "    \"P_cc\": 2500000.0,\n",
    "    \"MR\": np.float64(1.0),\n",
    "    \"T_o\": 868.1694130102591,\n",
    "    \"Cp\": 2242.4288383607086,\n",
    "    \"gamma\": 1.290332008352664,\n",
    "    \"R\": 504.5591863293963,\n",
    "    \"ox_stiffness\": 1.0,\n",
    "    \"fu_stiffness\": 1.0,\n",
    "    \"m_dot_t\": np.float64(0.034698),\n",
    "    \"m_dot_o\": np.float64(0.017349),\n",
    "    \"m_dot_f\": np.float64(0.017349),\n",
    "}\n",
    "\n",
    "\n",
    "dic_gg_geom = {\n",
    "    \"CdA_ox\": np.float64(2.762869917776594e-07),\n",
    "    \"CdA_fu\": np.float64(2.7674397322716395e-07),\n",
    "    \"A_fu\": np.float64(6.918599330679098e-07),\n",
    "    \"A_ox\": np.float64(5.525739835553188e-07),\n",
    "    \"Acc\": np.float64(1.3802848842750204e-05),\n",
    "}\n",
    "\n",
    "\n",
    "\n",
    "dic_rotor = {\n",
    "\n",
    "\n",
    "    \"N_shaft\": 24e3,\n",
    "\n",
    "\n",
    "    \"u_cis\": 0.13,\n",
    "\n",
    "\n",
    "    \"Rt\": 15,\n",
    "\n",
    "\n",
    "    \"phi_n\": 0.85,\n",
    "\n",
    "\n",
    "    \"alpha\": 70,\n",
    "\n",
    "\n",
    "    \"delta_r\": 2e-3,\n",
    "\n",
    "\n",
    "    \"N_nozzle\": 3,\n",
    "\n",
    "\n",
    "    \"N_rotor\": 40,\n",
    "\n",
    "\n",
    "    \"power\": 3.79 + 1.6\n",
    "\n",
    "\n",
    "}"
   ]
  },
  {
   "cell_type": "markdown",
   "id": "84059ffe",
   "metadata": {},
   "source": [
    "As we only have the power requirements for the pump, we must now derive the power requirements for the shaft, when considering the losses via the bearings and shaft seal."
   ]
  },
  {
   "cell_type": "markdown",
   "id": "3446aa76",
   "metadata": {},
   "source": [
    "## 3 - Power Requirements Considering Mechanical Losses"
   ]
  },
  {
   "cell_type": "markdown",
   "id": "c1588c81",
   "metadata": {},
   "source": [
    "In the shaft design, we have two bearings being used, along with a mechanical seal.\n",
    "\n",
    "Inorder to determine the losses, we will use `SKF` to estimate the resitive torques expected for both of these bearings.\n",
    "\n",
    "To do so, we need a rough estimation of what the forces carried by the bearings will be.\n",
    "\n",
    "A calculation was conducted in the `bearings.ipynb` document for the expected mechanical losses for the system, which was evaluated at approximately 1.6 kW.\n",
    "\n",
    "This brings the total power requirement for the turbine to 5.6 kW.\n",
    "\n",
    "We can take an additional 30% Margin against this power requirement, to derive a required turbine power of **7.28 kW**"
   ]
  },
  {
   "cell_type": "markdown",
   "id": "734e00b5",
   "metadata": {},
   "source": [
    "## 4 - Initialising our Runnning Parameters"
   ]
  },
  {
   "cell_type": "markdown",
   "id": "1b14172d",
   "metadata": {},
   "source": [
    "As this problem is an optimisation problem, we will manually initialise these until we reach a good operating point."
   ]
  },
  {
   "cell_type": "code",
   "execution_count": 3,
   "id": "8b47ad02",
   "metadata": {},
   "outputs": [],
   "source": [
    "b = 15e-3\n",
    "t = 5e-3"
   ]
  },
  {
   "cell_type": "markdown",
   "id": "b7b575e1",
   "metadata": {},
   "source": [
    "## 5 - Turbine Fluidic Design with Geometry Specification"
   ]
  },
  {
   "cell_type": "markdown",
   "id": "53d7d752",
   "metadata": {},
   "source": [
    "Based on these inputs, we can derive the required turbine power accordingly - using our refined loss model.\n",
    "\n",
    "The main parameter we will iterate on the GG mass flow rate untill we reach our target power. We will do an adjoint-esque iterative study until the power requirement is reached.\n",
    "\n",
    "We will instantiate an inital error of 0"
   ]
  },
  {
   "cell_type": "code",
   "execution_count": 4,
   "id": "d330bd1f",
   "metadata": {},
   "outputs": [],
   "source": [
    "error = 0"
   ]
  },
  {
   "cell_type": "markdown",
   "id": "7d6176b4",
   "metadata": {},
   "source": [
    "### 5.1 - Optimisation Loop for System Power"
   ]
  },
  {
   "cell_type": "markdown",
   "id": "f59a2b8c",
   "metadata": {},
   "source": [
    "We will use a relaxation factor of **0.4** for the adjoint solver based on the relative error from the target power."
   ]
  },
  {
   "cell_type": "code",
   "execution_count": 80,
   "id": "caa9128e",
   "metadata": {},
   "outputs": [],
   "source": [
    "relax = 0.4\n",
    "\n",
    "dm = dic_gg[\"m_dot_t\"]*error*relax\n",
    "\n",
    "dic_gg[\"m_dot_t\"] -= dm"
   ]
  },
  {
   "cell_type": "code",
   "execution_count": 81,
   "id": "f4ba80f6",
   "metadata": {},
   "outputs": [
    {
     "name": "stdout",
     "output_type": "stream",
     "text": [
      "Blade Chord Length: 21.96941913507068\n",
      "Blade Spacing: 10.829718038795992\n"
     ]
    }
   ],
   "source": [
    "print(f\"Blade Chord Length: {b*1e3}\")\n",
    "print(f\"Blade Spacing: {t*1e3}\")"
   ]
  },
  {
   "cell_type": "code",
   "execution_count": 82,
   "id": "0e680f66",
   "metadata": {},
   "outputs": [
    {
     "name": "stdout",
     "output_type": "stream",
     "text": [
      "Current Error: 33.7987027017678 %\n",
      "Current Error: 2.3069626702093773 %\n",
      "Current Error: 0.20014073252452824 %\n",
      "Current Error: 0.01704406972958137 %\n",
      "Current Error: 0.0014537962880022388 %\n"
     ]
    }
   ],
   "source": [
    "fluid = IdealGas(\n",
    "    p=dic_gg[\"P_cc\"],\n",
    "    t=dic_gg[\"T_o\"],\n",
    "    gamma=dic_gg[\"gamma\"],\n",
    "    cp=dic_gg[\"Cp\"],\n",
    "    R=504,\n",
    ")\n",
    "\n",
    "stage = TurbineStageDesign(gas=fluid, m_dot=dic_gg[\"m_dot_t\"], omega=dic_rotor[\"N_shaft\"], alpha=(90 - dic_rotor[\"alpha\"]))\n",
    "\n",
    "stage.set_operating_point(u_cis=dic_rotor[\"u_cis\"], Rt=dic_rotor[\"Rt\"], b=b, t=t, delta_r=dic_rotor[\"delta_r\"], N=dic_rotor[\"N_nozzle\"])\n",
    "\n",
    "result = stage.solve_performance(phi_n=dic_rotor[\"phi_n\"])"
   ]
  },
  {
   "cell_type": "markdown",
   "id": "ca14ba39",
   "metadata": {},
   "source": [
    "We can get out power produced and calculate our error to repeat once again."
   ]
  },
  {
   "cell_type": "code",
   "execution_count": 78,
   "id": "e5642279",
   "metadata": {},
   "outputs": [
    {
     "name": "stdout",
     "output_type": "stream",
     "text": [
      "Relative Error: -0.00 %\n"
     ]
    }
   ],
   "source": [
    "P = result[\"performance\"][\"Power\"] * 1e-3\n",
    "\n",
    "error = (P - dic_rotor[\"power\"]) / dic_rotor[\"power\"]\n",
    "\n",
    "print(f\"Relative Error: {error*1e2:.2f} %\")"
   ]
  },
  {
   "cell_type": "markdown",
   "id": "13f8bf55",
   "metadata": {},
   "source": [
    "**Final Gas Generator Mass Flow Rate**"
   ]
  },
  {
   "cell_type": "code",
   "execution_count": 79,
   "id": "cbd08159",
   "metadata": {},
   "outputs": [
    {
     "data": {
      "text/latex": [
       "\\[\n",
       "\\begin{aligned}\n",
       "m_{dot_{t}} &= 34.697 \\; \\;\\textrm{(g/s)}\n",
       "\\end{aligned}\n",
       "\\]"
      ],
      "text/plain": [
       "<IPython.core.display.Latex object>"
      ]
     },
     "metadata": {},
     "output_type": "display_data"
    }
   ],
   "source": [
    "%%render param\n",
    "\n",
    "m_dot_t = dic_gg[\"m_dot_t\"]*1e3 # g/s"
   ]
  },
  {
   "cell_type": "markdown",
   "id": "309559e6",
   "metadata": {},
   "source": [
    "### 5.2 - Getting System Performance"
   ]
  },
  {
   "cell_type": "markdown",
   "id": "0569eb31",
   "metadata": {},
   "source": [
    "We can now get an idea of the specific power of the turbine and the associated performance Metrics"
   ]
  },
  {
   "cell_type": "code",
   "execution_count": 83,
   "id": "31bafc1b",
   "metadata": {},
   "outputs": [],
   "source": [
    "performance_dic = result[\"performance\"]\n",
    "performance_dic = {k: [v] for k, v in performance_dic.items()}\n",
    "performance_df = pd.DataFrame(performance_dic)\n",
    "\n",
    "pressure_dic = result[\"pressure\"]\n",
    "pressure_dic = {k: [v] for k, v in pressure_dic.items()}\n",
    "pressure_df = pd.DataFrame(pressure_dic)\n",
    "\n",
    "velocity_dic = result[\"velocity\"]\n",
    "velocity_dic = {k: [v] for k, v in velocity_dic.items()}\n",
    "velocity_df = pd.DataFrame(velocity_dic)\n",
    "\n",
    "temperature_dic = result[\"temperature\"]\n",
    "temperature_dic = {k: [v] for k, v in temperature_dic.items()}\n",
    "temperature_df = pd.DataFrame(temperature_dic)\n",
    "\n",
    "geometry_dic = result[\"geometry\"]\n",
    "geometry_dic = {k: [v] for k, v in geometry_dic.items()}\n",
    "geometry_df = pd.DataFrame(geometry_dic)\n",
    "\n",
    "mach_dic = result[\"mach\"]\n",
    "mach_dic = {k: [v] for k, v in mach_dic.items()}\n",
    "mach_df = pd.DataFrame(mach_dic)\n",
    "\n",
    "angles_dic = result[\"angles\"]\n",
    "angles_dic = {k: [v] for k, v in angles_dic.items()}\n",
    "angles_df = pd.DataFrame(angles_dic)"
   ]
  },
  {
   "cell_type": "markdown",
   "id": "0db41926",
   "metadata": {},
   "source": [
    "**Performance**"
   ]
  },
  {
   "cell_type": "code",
   "execution_count": 84,
   "id": "98de5998",
   "metadata": {},
   "outputs": [
    {
     "data": {
      "text/html": [
       "<div>\n",
       "<style scoped>\n",
       "    .dataframe tbody tr th:only-of-type {\n",
       "        vertical-align: middle;\n",
       "    }\n",
       "\n",
       "    .dataframe tbody tr th {\n",
       "        vertical-align: top;\n",
       "    }\n",
       "\n",
       "    .dataframe thead th {\n",
       "        text-align: right;\n",
       "    }\n",
       "</style>\n",
       "<table border=\"1\" class=\"dataframe\">\n",
       "  <thead>\n",
       "    <tr style=\"text-align: right;\">\n",
       "      <th></th>\n",
       "      <th>dh</th>\n",
       "      <th>eps</th>\n",
       "      <th>phi_r</th>\n",
       "      <th>phi_l</th>\n",
       "      <th>m_leakage</th>\n",
       "      <th>eta_l</th>\n",
       "      <th>phi</th>\n",
       "      <th>eta_h</th>\n",
       "      <th>zeta_eps</th>\n",
       "      <th>eta_o</th>\n",
       "      <th>Power</th>\n",
       "      <th>Power (kW)</th>\n",
       "      <th>Torque (Nm)</th>\n",
       "    </tr>\n",
       "  </thead>\n",
       "  <tbody>\n",
       "    <tr>\n",
       "      <th>0</th>\n",
       "      <td>888295.70878</td>\n",
       "      <td>0.076355</td>\n",
       "      <td>0.624847</td>\n",
       "      <td>0.289176</td>\n",
       "      <td>0.010034</td>\n",
       "      <td>0.710824</td>\n",
       "      <td>0.85</td>\n",
       "      <td>0.275663</td>\n",
       "      <td>0.021073</td>\n",
       "      <td>0.174875</td>\n",
       "      <td>5389.895478</td>\n",
       "      <td>5.389895</td>\n",
       "      <td>2.058788</td>\n",
       "    </tr>\n",
       "  </tbody>\n",
       "</table>\n",
       "</div>"
      ],
      "text/plain": [
       "             dh       eps     phi_r     phi_l  m_leakage     eta_l   phi  \\\n",
       "0  888295.70878  0.076355  0.624847  0.289176   0.010034  0.710824  0.85   \n",
       "\n",
       "      eta_h  zeta_eps     eta_o        Power  Power (kW)  Torque (Nm)  \n",
       "0  0.275663  0.021073  0.174875  5389.895478    5.389895     2.058788  "
      ]
     },
     "execution_count": 84,
     "metadata": {},
     "output_type": "execute_result"
    }
   ],
   "source": [
    "performance_df[\"Power (kW)\"] = performance_df[\"Power\"].multiply(1e-3)\n",
    "performance_df[\"Torque (Nm)\"] = performance_df[\"Power\"] / (25000 * 2 *np.pi/60)\n",
    "\n",
    "performance_df"
   ]
  },
  {
   "cell_type": "markdown",
   "id": "ce2f6a04",
   "metadata": {},
   "source": [
    "As can be seen, we are getting an efficiency on the order of **45%** with a specific power of 987 kW/kg/s"
   ]
  },
  {
   "cell_type": "markdown",
   "id": "281dfc77",
   "metadata": {},
   "source": [
    "This works out to a GG size of the following:"
   ]
  },
  {
   "cell_type": "markdown",
   "id": "0e32adeb",
   "metadata": {},
   "source": [
    "**Pressures**"
   ]
  },
  {
   "cell_type": "code",
   "execution_count": 85,
   "id": "17ddc9af",
   "metadata": {},
   "outputs": [
    {
     "data": {
      "text/html": [
       "<div>\n",
       "<style scoped>\n",
       "    .dataframe tbody tr th:only-of-type {\n",
       "        vertical-align: middle;\n",
       "    }\n",
       "\n",
       "    .dataframe tbody tr th {\n",
       "        vertical-align: top;\n",
       "    }\n",
       "\n",
       "    .dataframe thead th {\n",
       "        text-align: right;\n",
       "    }\n",
       "</style>\n",
       "<table border=\"1\" class=\"dataframe\">\n",
       "  <thead>\n",
       "    <tr style=\"text-align: right;\">\n",
       "      <th></th>\n",
       "      <th>p_0</th>\n",
       "      <th>p_1</th>\n",
       "      <th>p_1o</th>\n",
       "      <th>p_1o_r</th>\n",
       "      <th>p_2o_r</th>\n",
       "      <th>p_2o</th>\n",
       "    </tr>\n",
       "  </thead>\n",
       "  <tbody>\n",
       "    <tr>\n",
       "      <th>0</th>\n",
       "      <td>25.0</td>\n",
       "      <td>1.666667</td>\n",
       "      <td>9.842821</td>\n",
       "      <td>6.563522</td>\n",
       "      <td>2.702469</td>\n",
       "      <td>2.237566</td>\n",
       "    </tr>\n",
       "  </tbody>\n",
       "</table>\n",
       "</div>"
      ],
      "text/plain": [
       "    p_0       p_1      p_1o    p_1o_r    p_2o_r      p_2o\n",
       "0  25.0  1.666667  9.842821  6.563522  2.702469  2.237566"
      ]
     },
     "execution_count": 85,
     "metadata": {},
     "output_type": "execute_result"
    }
   ],
   "source": [
    "pressure_df * 1e-5"
   ]
  },
  {
   "cell_type": "markdown",
   "id": "537769dd",
   "metadata": {},
   "source": [
    "**Temperatures**"
   ]
  },
  {
   "cell_type": "code",
   "execution_count": 86,
   "id": "ac285f90",
   "metadata": {},
   "outputs": [
    {
     "data": {
      "text/html": [
       "<div>\n",
       "<style scoped>\n",
       "    .dataframe tbody tr th:only-of-type {\n",
       "        vertical-align: middle;\n",
       "    }\n",
       "\n",
       "    .dataframe tbody tr th {\n",
       "        vertical-align: top;\n",
       "    }\n",
       "\n",
       "    .dataframe thead th {\n",
       "        text-align: right;\n",
       "    }\n",
       "</style>\n",
       "<table border=\"1\" class=\"dataframe\">\n",
       "  <thead>\n",
       "    <tr style=\"text-align: right;\">\n",
       "      <th></th>\n",
       "      <th>t_0</th>\n",
       "      <th>t_1</th>\n",
       "      <th>t_1o_r</th>\n",
       "      <th>t_2</th>\n",
       "      <th>t_2o</th>\n",
       "    </tr>\n",
       "  </thead>\n",
       "  <tbody>\n",
       "    <tr>\n",
       "      <th>0</th>\n",
       "      <td>868.169413</td>\n",
       "      <td>581.64718</td>\n",
       "      <td>792.514826</td>\n",
       "      <td>710.184917</td>\n",
       "      <td>758.849737</td>\n",
       "    </tr>\n",
       "  </tbody>\n",
       "</table>\n",
       "</div>"
      ],
      "text/plain": [
       "          t_0        t_1      t_1o_r         t_2        t_2o\n",
       "0  868.169413  581.64718  792.514826  710.184917  758.849737"
      ]
     },
     "execution_count": 86,
     "metadata": {},
     "output_type": "execute_result"
    }
   ],
   "source": [
    "temperature_df"
   ]
  },
  {
   "cell_type": "markdown",
   "id": "e7945195",
   "metadata": {},
   "source": [
    "**Geometry**"
   ]
  },
  {
   "cell_type": "code",
   "execution_count": 87,
   "id": "caeef526",
   "metadata": {},
   "outputs": [
    {
     "name": "stdout",
     "output_type": "stream",
     "text": [
      "Comparison of Throat Calculated using CEA: -0.1 %\n"
     ]
    },
    {
     "data": {
      "text/html": [
       "<div>\n",
       "<style scoped>\n",
       "    .dataframe tbody tr th:only-of-type {\n",
       "        vertical-align: middle;\n",
       "    }\n",
       "\n",
       "    .dataframe tbody tr th {\n",
       "        vertical-align: top;\n",
       "    }\n",
       "\n",
       "    .dataframe thead th {\n",
       "        text-align: right;\n",
       "    }\n",
       "</style>\n",
       "<table border=\"1\" class=\"dataframe\">\n",
       "  <thead>\n",
       "    <tr style=\"text-align: right;\">\n",
       "      <th></th>\n",
       "      <th>D_m</th>\n",
       "      <th>A_1</th>\n",
       "      <th>A_0</th>\n",
       "      <th>s_c</th>\n",
       "      <th>s_b</th>\n",
       "      <th>D_hub</th>\n",
       "      <th>D_tip</th>\n",
       "      <th>AR</th>\n",
       "      <th>Nozzle Throat (mm)</th>\n",
       "      <th>Nozzle Exit (mm)</th>\n",
       "      <th>eps</th>\n",
       "    </tr>\n",
       "  </thead>\n",
       "  <tbody>\n",
       "    <tr>\n",
       "      <th>0</th>\n",
       "      <td>0.137888</td>\n",
       "      <td>0.000054</td>\n",
       "      <td>0.000014</td>\n",
       "      <td>0.004781</td>\n",
       "      <td>0.007281</td>\n",
       "      <td>0.130607</td>\n",
       "      <td>0.14517</td>\n",
       "      <td>0.331434</td>\n",
       "      <td>2.420353</td>\n",
       "      <td>4.781416</td>\n",
       "      <td>3.904858</td>\n",
       "    </tr>\n",
       "  </tbody>\n",
       "</table>\n",
       "</div>"
      ],
      "text/plain": [
       "        D_m       A_1       A_0       s_c       s_b     D_hub    D_tip  \\\n",
       "0  0.137888  0.000054  0.000014  0.004781  0.007281  0.130607  0.14517   \n",
       "\n",
       "         AR  Nozzle Throat (mm)  Nozzle Exit (mm)       eps  \n",
       "0  0.331434            2.420353          4.781416  3.904858  "
      ]
     },
     "execution_count": 87,
     "metadata": {},
     "output_type": "execute_result"
    }
   ],
   "source": [
    "geometry_df[\"Nozzle Throat (mm)\"] = [(dic_gg_geom[\"Acc\"] / (dic_rotor[\"N_nozzle\"]* np.pi))**(1/2) * 2 * 1e3]\n",
    "geometry_df[\"Nozzle Exit (mm)\"] = geometry_df[\"s_c\"]*1e3\n",
    "geometry_df[\"eps\"] = geometry_df[\"A_1\"] / geometry_df[\"A_0\"]\n",
    "\n",
    "throat_error = (geometry_df[\"A_0\"][0] - dic_gg_geom[\"Acc\"] )/ dic_gg_geom[\"Acc\"]\n",
    "\n",
    "print(f\"Comparison of Throat Calculated using CEA: {throat_error*100:.1f} %\")\n",
    "\n",
    "geometry_df"
   ]
  },
  {
   "cell_type": "markdown",
   "id": "bce152f5",
   "metadata": {},
   "source": [
    "**Mach**"
   ]
  },
  {
   "cell_type": "code",
   "execution_count": 88,
   "id": "7ef77265",
   "metadata": {},
   "outputs": [
    {
     "data": {
      "text/html": [
       "<div>\n",
       "<style scoped>\n",
       "    .dataframe tbody tr th:only-of-type {\n",
       "        vertical-align: middle;\n",
       "    }\n",
       "\n",
       "    .dataframe tbody tr th {\n",
       "        vertical-align: top;\n",
       "    }\n",
       "\n",
       "    .dataframe thead th {\n",
       "        text-align: right;\n",
       "    }\n",
       "</style>\n",
       "<table border=\"1\" class=\"dataframe\">\n",
       "  <thead>\n",
       "    <tr style=\"text-align: right;\">\n",
       "      <th></th>\n",
       "      <th>m_star_c1</th>\n",
       "      <th>m_star_w1</th>\n",
       "      <th>m_star_w2</th>\n",
       "      <th>m_star_c2</th>\n",
       "    </tr>\n",
       "  </thead>\n",
       "  <tbody>\n",
       "    <tr>\n",
       "      <th>0</th>\n",
       "      <td>1.613536</td>\n",
       "      <td>1.448782</td>\n",
       "      <td>0.905267</td>\n",
       "      <td>0.664978</td>\n",
       "    </tr>\n",
       "  </tbody>\n",
       "</table>\n",
       "</div>"
      ],
      "text/plain": [
       "   m_star_c1  m_star_w1  m_star_w2  m_star_c2\n",
       "0   1.613536   1.448782   0.905267   0.664978"
      ]
     },
     "execution_count": 88,
     "metadata": {},
     "output_type": "execute_result"
    }
   ],
   "source": [
    "mach_df"
   ]
  },
  {
   "cell_type": "markdown",
   "id": "2e6c0553",
   "metadata": {},
   "source": [
    "**Angles**"
   ]
  },
  {
   "cell_type": "code",
   "execution_count": 89,
   "id": "71bae886",
   "metadata": {},
   "outputs": [
    {
     "data": {
      "text/html": [
       "<div>\n",
       "<style scoped>\n",
       "    .dataframe tbody tr th:only-of-type {\n",
       "        vertical-align: middle;\n",
       "    }\n",
       "\n",
       "    .dataframe tbody tr th {\n",
       "        vertical-align: top;\n",
       "    }\n",
       "\n",
       "    .dataframe thead th {\n",
       "        text-align: right;\n",
       "    }\n",
       "</style>\n",
       "<table border=\"1\" class=\"dataframe\">\n",
       "  <thead>\n",
       "    <tr style=\"text-align: right;\">\n",
       "      <th></th>\n",
       "      <th>beta_1</th>\n",
       "      <th>beta_2</th>\n",
       "      <th>alpha_2</th>\n",
       "    </tr>\n",
       "  </thead>\n",
       "  <tbody>\n",
       "    <tr>\n",
       "      <th>0</th>\n",
       "      <td>66.504234</td>\n",
       "      <td>89.46299</td>\n",
       "      <td>19.067176</td>\n",
       "    </tr>\n",
       "  </tbody>\n",
       "</table>\n",
       "</div>"
      ],
      "text/plain": [
       "      beta_1    beta_2    alpha_2\n",
       "0  66.504234  89.46299  19.067176"
      ]
     },
     "execution_count": 89,
     "metadata": {},
     "output_type": "execute_result"
    }
   ],
   "source": [
    "90 -angles_df"
   ]
  },
  {
   "cell_type": "markdown",
   "id": "2995c314",
   "metadata": {},
   "source": [
    "**Velocities**"
   ]
  },
  {
   "cell_type": "code",
   "execution_count": 90,
   "id": "a991ea29",
   "metadata": {},
   "outputs": [
    {
     "data": {
      "text/html": [
       "<div>\n",
       "<style scoped>\n",
       "    .dataframe tbody tr th:only-of-type {\n",
       "        vertical-align: middle;\n",
       "    }\n",
       "\n",
       "    .dataframe tbody tr th {\n",
       "        vertical-align: top;\n",
       "    }\n",
       "\n",
       "    .dataframe thead th {\n",
       "        text-align: right;\n",
       "    }\n",
       "</style>\n",
       "<table border=\"1\" class=\"dataframe\">\n",
       "  <thead>\n",
       "    <tr style=\"text-align: right;\">\n",
       "      <th></th>\n",
       "      <th>u</th>\n",
       "      <th>c_1s</th>\n",
       "      <th>c_1</th>\n",
       "      <th>w_1</th>\n",
       "      <th>a_star_2</th>\n",
       "      <th>w_2</th>\n",
       "      <th>c_2</th>\n",
       "      <th>a_star_3</th>\n",
       "    </tr>\n",
       "  </thead>\n",
       "  <tbody>\n",
       "    <tr>\n",
       "      <th>0</th>\n",
       "      <td>173.275489</td>\n",
       "      <td>1332.888374</td>\n",
       "      <td>1132.955118</td>\n",
       "      <td>971.937898</td>\n",
       "      <td>670.86553</td>\n",
       "      <td>607.312696</td>\n",
       "      <td>466.918523</td>\n",
       "      <td>656.462125</td>\n",
       "    </tr>\n",
       "  </tbody>\n",
       "</table>\n",
       "</div>"
      ],
      "text/plain": [
       "            u         c_1s          c_1         w_1   a_star_2         w_2  \\\n",
       "0  173.275489  1332.888374  1132.955118  971.937898  670.86553  607.312696   \n",
       "\n",
       "          c_2    a_star_3  \n",
       "0  466.918523  656.462125  "
      ]
     },
     "execution_count": 90,
     "metadata": {},
     "output_type": "execute_result"
    }
   ],
   "source": [
    "velocity_df"
   ]
  },
  {
   "cell_type": "markdown",
   "id": "8f415d28",
   "metadata": {},
   "source": [
    "## 6 - Profile Design"
   ]
  },
  {
   "cell_type": "markdown",
   "id": "0f6102e8",
   "metadata": {},
   "source": [
    "Here we can generate our turbine blade profile, by using the \"profiling\" submodule of the `turborocket` python package.\n",
    "\n",
    "A reasonable blade leading edge has been assumed for this analysis.\n",
    "\n",
    "A reverse computation is performed to evaluate for the inlet mach number, based on the inlet M_star number.\n",
    "\n",
    "We will assume a given number of blades at this stage"
   ]
  },
  {
   "cell_type": "code",
   "execution_count": 91,
   "id": "ac87630f",
   "metadata": {},
   "outputs": [
    {
     "name": "stdout",
     "output_type": "stream",
     "text": [
      "Initial Solidity: 2.499263995373255\n",
      "Final Solidity: 2.0286233728679015\n"
     ]
    },
    {
     "data": {
      "text/plain": [
       "{'M_u_max': np.float64(1.8691412210751401),\n",
       " 'M_u_margin': np.float64(0.09949483592655305),\n",
       " 'M_l_min': np.float64(0.9943044216249003),\n",
       " 'M_l_margin': np.float64(0.05304340797628548),\n",
       " 'M_e_max': np.float64(1.500215030219664),\n",
       " 'M_e_margin': np.float64(0.09642868348945291)}"
      ]
     },
     "execution_count": 91,
     "metadata": {},
     "output_type": "execute_result"
    }
   ],
   "source": [
    "M_i = inv_M_star(M_star=mach_df[\"m_star_w1\"][0], gamma=fluid.get_gamma())\n",
    "\n",
    "M_star_w = mach_df[\"m_star_w1\"][0]\n",
    "\n",
    "super = SymmetricFiniteEdge(\n",
    "    beta_ei = (90 - angles_df[\"beta_1\"][0]),\n",
    "    beta_i = (90 - angles_df[\"beta_1\"][0]), \n",
    "    M_i=M_i,  # Relative Mach Numbers Nominally\n",
    "    M_u=1.7,\n",
    "    M_l=1.05,\n",
    "    m_dot=1,\n",
    "    h=10e-3,\n",
    "    t_g_rat=0.12,\n",
    "    g_expand=0.1,\n",
    "    le_angle=20,\n",
    "    fluid = fluid,\n",
    ")\n",
    "\n",
    "super.prantl_meyer()\n",
    "\n",
    "super.generate_turbine_profile()\n",
    "super.get_performance()"
   ]
  },
  {
   "cell_type": "markdown",
   "id": "f3187314",
   "metadata": {},
   "source": [
    "We can now get the geometry sized"
   ]
  },
  {
   "cell_type": "code",
   "execution_count": 92,
   "id": "5e821599",
   "metadata": {},
   "outputs": [
    {
     "name": "stdout",
     "output_type": "stream",
     "text": [
      "Blade Spacing: 10.83 mm\n",
      "Blade Chord Lenght: 21.97 mm\n"
     ]
    }
   ],
   "source": [
    "profile_geometry = super.size_geometry(D_m=geometry_df[\"D_m\"][0], N=dic_rotor[\"N_rotor\"])\n",
    "b = profile_geometry[\"b\"]\n",
    "t = profile_geometry[\"t\"]\n",
    "\n",
    "print(f\"Blade Spacing: {t*1e3:.2f} mm\")\n",
    "print(f\"Blade Chord Lenght: {b*1e3:.2f} mm\")"
   ]
  },
  {
   "cell_type": "code",
   "execution_count": 93,
   "id": "dfa83cbf",
   "metadata": {},
   "outputs": [
    {
     "data": {
      "text/plain": [
       "array([100.        , 100.        , 100.        , 100.        ,\n",
       "       100.        , 100.        , 100.        , 100.        ,\n",
       "       100.        , 100.        , 111.11111111, 122.22222222,\n",
       "       133.33333333, 144.44444444, 155.55555556, 166.66666667,\n",
       "       177.77777778, 188.88888889, 200.        ])"
      ]
     },
     "execution_count": 93,
     "metadata": {},
     "output_type": "execute_result"
    }
   ],
   "source": [
    "np.append(np.linspace(100,100,10), np.linspace(100,200,10)[1:])\n"
   ]
  },
  {
   "cell_type": "markdown",
   "id": "e3559386",
   "metadata": {},
   "source": [
    "We can plot the passage geometry"
   ]
  },
  {
   "cell_type": "code",
   "execution_count": 94,
   "id": "3f9f5f36",
   "metadata": {},
   "outputs": [
    {
     "data": {
      "image/png": "[encoded data removed]",
      "text/plain": [
       "<Figure size 640x480 with 1 Axes>"
      ]
     },
     "metadata": {},
     "output_type": "display_data"
    }
   ],
   "source": [
    "super.plot_passage()\n"
   ]
  },
  {
   "cell_type": "markdown",
   "id": "9b502c71",
   "metadata": {},
   "source": [
    "Finally we can plot the scaled geometry"
   ]
  },
  {
   "cell_type": "code",
   "execution_count": 95,
   "id": "656aec2e",
   "metadata": {},
   "outputs": [
    {
     "data": {
      "image/png": "[encoded data removed]",
      "text/plain": [
       "<Figure size 640x480 with 1 Axes>"
      ]
     },
     "metadata": {},
     "output_type": "display_data"
    }
   ],
   "source": [
    "super.plot_scaled()"
   ]
  },
  {
   "cell_type": "markdown",
   "id": "e64aa243",
   "metadata": {},
   "source": [
    "We can then generate our blade file"
   ]
  },
  {
   "cell_type": "code",
   "execution_count": 96,
   "id": "c77d19fd",
   "metadata": {},
   "outputs": [
    {
     "data": {
      "text/plain": [
       "[<matplotlib.lines.Line2D at 0x21343ce8910>]"
      ]
     },
     "execution_count": 96,
     "metadata": {},
     "output_type": "execute_result"
    },
    {
     "data": {
      "image/png": "[encoded data removed]",
      "text/plain": [
       "<Figure size 640x480 with 1 Axes>"
      ]
     },
     "metadata": {},
     "output_type": "display_data"
    }
   ],
   "source": [
    "k = super.generate_xy()\n",
    "k.to_csv(\"blade.txt\", sep=\"\\t\", index=False)\n",
    "\n",
    "plt.plot(k[\"x\"], k[\"y\"])"
   ]
  },
  {
   "cell_type": "markdown",
   "id": "cb4d3102",
   "metadata": {},
   "source": [
    "## 6 - Conclusion"
   ]
  },
  {
   "cell_type": "markdown",
   "id": "15f22c45",
   "metadata": {},
   "source": [
    "The following key Parameters have been derived from this study:\n",
    "\n",
    "| Parameter                | Value        |\n",
    "| ------------------------ | ------------ |\n",
    "| Gas Generator Mass Flow  | 28 g/s       |\n",
    "| Shaft Speed              | 25,000 rpm   |\n",
    "| Nozzle outlet Area       | 0.000044 m^2 |\n",
    "| Nozzle Throat (GG Param) | 0.000011 m^2             |\n",
    "|                          |              |"
   ]
  },
  {
   "cell_type": "markdown",
   "id": "d61e0d6e",
   "metadata": {},
   "source": [
    "The following Power Requirement is present"
   ]
  },
  {
   "cell_type": "code",
   "execution_count": 24,
   "id": "49cb0e4c",
   "metadata": {},
   "outputs": [
    {
     "data": {
      "text/latex": [
       "\\[\n",
       "\\begin{aligned}\n",
       "\\mathrm{acceptable} &= 1.000 \\; \n",
       " &\\mathrm{Power} &= 5.855 \\;\n",
       "\\end{aligned}\n",
       "\\]"
      ],
      "text/plain": [
       "<IPython.core.display.Latex object>"
      ]
     },
     "metadata": {},
     "output_type": "display_data"
    }
   ],
   "source": [
    "%%render params\n",
    "\n",
    "acceptable = (dic_rotor[\"power\"] < performance_df[\"Power (kW)\"][0])\n",
    "\n",
    "Power = performance_df[\"Power (kW)\"][0]"
   ]
  }
 ],
 "metadata": {
  "kernelspec": {
   "display_name": ".venv",
   "language": "python",
   "name": "python3"
  },
  "language_info": {
   "codemirror_mode": {
    "name": "ipython",
    "version": 3
   },
   "file_extension": ".py",
   "mimetype": "text/x-python",
   "name": "python",
   "nbconvert_exporter": "python",
   "pygments_lexer": "ipython3",
   "version": "3.11.3"
  }
 },
 "nbformat": 4,
 "nbformat_minor": 5
}
