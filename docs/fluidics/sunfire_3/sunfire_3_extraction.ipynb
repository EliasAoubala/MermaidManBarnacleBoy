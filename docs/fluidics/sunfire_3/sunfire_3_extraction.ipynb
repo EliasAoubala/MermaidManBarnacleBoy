{
 "cells": [
  {
   "cell_type": "markdown",
   "id": "b6b32db4",
   "metadata": {},
   "source": [
    "# Sunfire III: Data Extraction and Modelling"
   ]
  },
  {
   "cell_type": "markdown",
   "id": "e8b8442c",
   "metadata": {},
   "source": [
    "> Date: \n",
    "\n",
    "> Author: Elias Aoubala "
   ]
  },
  {
   "cell_type": "markdown",
   "id": "68d6a031",
   "metadata": {},
   "source": [
    "## 1 - Background"
   ]
  },
  {
   "cell_type": "markdown",
   "id": "7759a1f7",
   "metadata": {},
   "source": [
    "This document contains the data extraction for the Sunfire 3 engine firing"
   ]
  },
  {
   "cell_type": "markdown",
   "id": "1314dc85",
   "metadata": {},
   "source": [
    "## 2 - H5py loading"
   ]
  },
  {
   "cell_type": "code",
   "execution_count": 28,
   "id": "0056bed0",
   "metadata": {},
   "outputs": [
    {
     "name": "stdout",
     "output_type": "stream",
     "text": [
      "<HDF5 dataset \"assets.yaml\": shape (1,), type \"|S102732\">\n"
     ]
    }
   ],
   "source": [
    "import h5py\n",
    "\n",
    "f = h5py.File(\"20240705-001-release.h5\")\n",
    "\n",
    "print(f[\"config\"][\"assets.yaml\"])"
   ]
  }
 ],
 "metadata": {
  "kernelspec": {
   "display_name": ".venv",
   "language": "python",
   "name": "python3"
  },
  "language_info": {
   "codemirror_mode": {
    "name": "ipython",
    "version": 3
   },
   "file_extension": ".py",
   "mimetype": "text/x-python",
   "name": "python",
   "nbconvert_exporter": "python",
   "pygments_lexer": "ipython3",
   "version": "3.11.3"
  }
 },
 "nbformat": 4,
 "nbformat_minor": 5
}
