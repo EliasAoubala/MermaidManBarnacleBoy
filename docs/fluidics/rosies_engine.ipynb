{
 "cells": [
  {
   "cell_type": "markdown",
   "id": "8aae03c7",
   "metadata": {},
   "source": [
    "# `Rosie's` Engine Performance Analysis"
   ]
  },
  {
   "cell_type": "markdown",
   "id": "41206ccf",
   "metadata": {},
   "source": [
    "> Date: 24/05/2025\n",
    "\n",
    "> Author: Elias Aoubala"
   ]
  },
  {
   "cell_type": "code",
   "execution_count": 55,
   "id": "6bcaa63d",
   "metadata": {},
   "outputs": [],
   "source": [
    "from turborocket.transient.start_up import MainEngine\n",
    "from turborocket.fluids.fluids import IncompressibleFluid\n",
    "import numpy as np\n",
    "import matplotlib.pyplot as plt\n",
    "import CoolProp.CoolProp as CP\n",
    "import handcalcs.render"
   ]
  },
  {
   "cell_type": "markdown",
   "id": "19479888",
   "metadata": {},
   "source": [
    "## 1 - Background"
   ]
  },
  {
   "cell_type": "markdown",
   "id": "30dd1da8",
   "metadata": {},
   "source": [
    "This document contains the authors analysis of the main engine intended to be used for the turbopump cycle for the R2S 2025 competition. "
   ]
  },
  {
   "cell_type": "markdown",
   "id": "acd20183",
   "metadata": {},
   "source": [
    "## 2 - High Level Description"
   ]
  },
  {
   "cell_type": "markdown",
   "id": "fcc93015",
   "metadata": {},
   "source": [
    "Below, a detailed description of the high level parameters for the engine, along with the sizing criteria has been presented."
   ]
  },
  {
   "cell_type": "markdown",
   "id": "014f9db9",
   "metadata": {},
   "source": [
    "**Chamber Parameter**"
   ]
  },
  {
   "cell_type": "code",
   "execution_count": 45,
   "id": "da32a56a",
   "metadata": {},
   "outputs": [
    {
     "data": {
      "text/latex": [
       "\\[\n",
       "\\begin{aligned}\n",
       "\\mathrm{Pcc} &= 2.000 \\times 10 ^ {6} \\; \\;\\textrm{(Pa)}\n",
       " &\\mathrm{MR}_{nom} &= 2.500 \\times 10 ^ {0} \\; \n",
       " &\\eta_{c} &= 9.500 \\times 10 ^ {-1} \\; \n",
       "\\\\[10pt]\n",
       " m_{dot_{t}} &= 5.500 \\times 10 ^ {-1} \\; \\;\\textrm{(kg/s)}\n",
       "\\end{aligned}\n",
       "\\]"
      ],
      "text/plain": [
       "<IPython.core.display.Latex object>"
      ]
     },
     "metadata": {},
     "output_type": "display_data"
    }
   ],
   "source": [
    "%%render param sci_not\n",
    "\n",
    "Pcc = 20e5 # Pa\n",
    "MR_nom = 2.5\n",
    "eta_c = 0.95\n",
    "m_dot_t = 0.55 # kg/s\n"
   ]
  },
  {
   "cell_type": "markdown",
   "id": "6e418e6d",
   "metadata": {},
   "source": [
    "**Injector Parameters**"
   ]
  },
  {
   "cell_type": "markdown",
   "id": "cae92d99",
   "metadata": {},
   "source": [
    "Fuel Side:"
   ]
  },
  {
   "cell_type": "code",
   "execution_count": 46,
   "id": "c8ae26e6",
   "metadata": {},
   "outputs": [
    {
     "data": {
      "text/latex": [
       "\\[\n",
       "\\begin{aligned}\n",
       "\\mathrm{Pf}_{inlet} &= 3.000 \\times 10 ^ {6} \\; \\;\\textrm{(Pa)}\n",
       " &\\rho_{f_{inlet}} &= 786 \\; \\;\\textrm{(kg/s)}\n",
       " &\\mathrm{Cd}_{f} &= 6.500 \\times 10 ^ {-1} \\; \n",
       "\\\\[10pt]\n",
       "\\end{aligned}\n",
       "\\]"
      ],
      "text/plain": [
       "<IPython.core.display.Latex object>"
      ]
     },
     "metadata": {},
     "output_type": "display_data"
    }
   ],
   "source": [
    "%%render param sci_not\n",
    "\n",
    "Pf_inlet = 30e5 # Pa\n",
    "rho_f_inlet = 786 # kg/s\n",
    "Cd_f = 0.65"
   ]
  },
  {
   "cell_type": "markdown",
   "id": "37f86bc9",
   "metadata": {},
   "source": [
    "Oxidiser Side:"
   ]
  },
  {
   "cell_type": "code",
   "execution_count": 47,
   "id": "8020e531",
   "metadata": {},
   "outputs": [
    {
     "data": {
      "text/latex": [
       "\\[\n",
       "\\begin{aligned}\n",
       "\\mathrm{Po}_{inlet} &= 5.000 \\times 10 ^ {6} \\; \\;\\textrm{(Pa)}\n",
       " &\\rho_{o_{inlet}} &= 7.886 \\times 10 ^ {2} \\; \\;\\textrm{(kg/s)}\n",
       " &\\mathrm{Cd}_{o} &= 4.700 \\times 10 ^ {-1} \\; \n",
       "\\\\[10pt]\n",
       "\\end{aligned}\n",
       "\\]"
      ],
      "text/plain": [
       "<IPython.core.display.Latex object>"
      ]
     },
     "metadata": {},
     "output_type": "display_data"
    }
   ],
   "source": [
    "%%render param sci_not\n",
    "\n",
    "Po_inlet = 50e5 # Pa\n",
    "rho_o_inlet = CP.PropsSI(\"D\", \"P\", Po_inlet, \"Q\", 0, \"NitrousOxide\") # kg/s\n",
    "Cd_o = 0.47"
   ]
  },
  {
   "cell_type": "markdown",
   "id": "cf92b49d",
   "metadata": {},
   "source": [
    "We then define our classes for the gas generator"
   ]
  },
  {
   "cell_type": "code",
   "execution_count": 48,
   "id": "537eb864",
   "metadata": {},
   "outputs": [],
   "source": [
    "Nitrous = IncompressibleFluid(\n",
    "    rho=rho_o_inlet, P=Po_inlet\n",
    ")\n",
    "IPA = IncompressibleFluid(rho=rho_f_inlet, P=Pf_inlet)\n",
    "\n",
    "ME = MainEngine(\n",
    "    Ox=\"N2O\", Fu=\"C3H8O,2propanol\", Pcc=Pcc, MR=MR_nom\n",
    ")  # , look_up_file=\"combustion_date.csv\"\n",
    "\n",
    "ME.comb_object(\n",
    "    look_up=True, combustion_file=\"n2o_ipa.yaml\", look_up_file=\"combustion_date.csv\"\n",
    ")"
   ]
  },
  {
   "cell_type": "code",
   "execution_count": 49,
   "id": "67de4450",
   "metadata": {},
   "outputs": [
    {
     "data": {
      "text/plain": [
       "{'P_cc': 2000000.0,\n",
       " 'MR': np.float64(2.4999999999999996),\n",
       " 'T_o': array([1988.5312729]),\n",
       " 'Cp': array([1903.61731215]),\n",
       " 'gamma': array([1.27604013]),\n",
       " 'R': array([411.80113617]),\n",
       " 'ox_stiffness': 1.5,\n",
       " 'fu_stiffness': 0.5,\n",
       " 'm_dot_t': array([0.55]),\n",
       " 'm_dot_o': array([0.39285714]),\n",
       " 'm_dot_f': array([0.15714286])}"
      ]
     },
     "execution_count": 49,
     "metadata": {},
     "output_type": "execute_result"
    }
   ],
   "source": [
    "ME.injector_cond(ox_in=Nitrous, fu_in=IPA, cdo=Cd_o, cdf=Cd_f)\n",
    "\n",
    "ME.size_system(m_dot=m_dot_t, eta_c=eta_c)"
   ]
  },
  {
   "cell_type": "code",
   "execution_count": 51,
   "id": "3c91221d",
   "metadata": {},
   "outputs": [
    {
     "name": "stdout",
     "output_type": "stream",
     "text": [
      "Throat Diameter: 21.86\n",
      "Fuel Orifice Diameter: 0.70\n",
      "Ox Orifice Diameter: 0.98\n"
     ]
    }
   ],
   "source": [
    "geom = ME.get_geometry()\n",
    "\n",
    "# print(geom)\n",
    "Acc = geom[\"Acc\"][0]\n",
    "D_t = 2 * (Acc/np.pi)**(1/2) *1e3\n",
    "\n",
    "D_ox = 2*(geom[\"A_ox\"]/ (np.pi* 16))**(1/2) *1e3\n",
    "\n",
    "D_fu = 2*(geom[\"A_fu\"]/ (np.pi* 16))**(1/2) *1e3\n",
    "\n",
    "print(f\"Throat Diameter: {D_t:.2f}\")\n",
    "print(f\"Fuel Orifice Diameter: {D_fu:.2f}\")\n",
    "print(f\"Ox Orifice Diameter: {D_ox:.2f}\")"
   ]
  },
  {
   "cell_type": "markdown",
   "id": "8e636f16",
   "metadata": {},
   "source": [
    "## 3 - Deep Throttling Study"
   ]
  },
  {
   "cell_type": "markdown",
   "id": "0a47c42e",
   "metadata": {},
   "source": [
    "We will now iterate through a range of inlet pressures to see how the engine would perform accordingly.\n",
    "\n",
    "We will also set a more reasonable c* efficiency at this point."
   ]
  },
  {
   "cell_type": "code",
   "execution_count": 64,
   "id": "bc4e2c9d",
   "metadata": {},
   "outputs": [],
   "source": [
    "ME.set_stochastic_parameters(eta_c=0.85)"
   ]
  },
  {
   "cell_type": "markdown",
   "id": "84e85f38",
   "metadata": {},
   "source": [
    "We can also increase our Nitrous Pressure so that the O/F are within reasonable bounds."
   ]
  },
  {
   "cell_type": "code",
   "execution_count": 65,
   "id": "918ce746",
   "metadata": {},
   "outputs": [],
   "source": [
    "p_throttle = 70e5\n",
    "\n",
    "rho_o_up_inlet = CP.PropsSI(\"D\", \"P\", p_throttle, \"Q\", 0, \"NitrousOxide\")  # kg/s\n",
    "Nitrous = IncompressibleFluid(rho=rho_o_up_inlet, P=p_throttle)"
   ]
  },
  {
   "cell_type": "code",
   "execution_count": 66,
   "id": "feb30d52",
   "metadata": {},
   "outputs": [],
   "source": [
    "P_inlet_array = np.linspace(25, 70, 100)*1e5\n",
    "\n",
    "P_cc_array = []\n",
    "MR_array = []\n",
    "T_o_array = []\n",
    "cp_array = []\n",
    "gamma_array = []\n",
    "ox_stiff_array = []\n",
    "fu_stiff_array = []\n",
    "m_dot_t_array = []\n",
    "m_dot_ox_array = []\n",
    "m_dot_fu_array = []\n",
    "error_array = []\n",
    "\n",
    "for p in P_inlet_array:\n",
    "\n",
    "    fuel = IncompressibleFluid(rho=rho_f_inlet, P=p)\n",
    "\n",
    "    \n",
    "    dic = ME.solve_perturb_ss(fu_in=fuel, ox_in=Nitrous)\n",
    "\n",
    "    P_cc_array.append(dic[\"P_cc\"])\n",
    "    MR_array.append(dic[\"MR\"])\n",
    "    T_o_array.append(dic[\"T_o\"])\n",
    "    cp_array.append(dic[\"Cp\"])\n",
    "    gamma_array.append(dic[\"gamma\"])\n",
    "    ox_stiff_array.append(dic[\"ox_stiffness\"])\n",
    "    fu_stiff_array.append(dic[\"fu_stiffness\"])\n",
    "    m_dot_t_array.append(dic[\"m_dot_t\"])\n",
    "    m_dot_ox_array.append(dic[\"m_dot_o\"])\n",
    "    m_dot_fu_array.append(dic[\"m_dot_f\"])\n",
    "    error_array.append(dic[\"error\"])"
   ]
  },
  {
   "cell_type": "code",
   "execution_count": 67,
   "id": "42c598bc",
   "metadata": {},
   "outputs": [
    {
     "data": {
      "text/plain": [
       "<matplotlib.lines.Line2D at 0x20bccc6c410>"
      ]
     },
     "execution_count": 67,
     "metadata": {},
     "output_type": "execute_result"
    },
    {
     "data": {
      "image/png": "[encoded data removed]",
      "text/plain": [
       "<Figure size 1200x600 with 3 Axes>"
      ]
     },
     "metadata": {},
     "output_type": "display_data"
    }
   ],
   "source": [
    "fig, ax = plt.subplots(3,1, sharex=True)\n",
    "\n",
    "fig.set_size_inches(12, 6)\n",
    "\n",
    "# First Plot will be the Total Enthalpy Delivered\n",
    "ax[0].plot(P_inlet_array / 1e5, m_dot_t_array)\n",
    "ax[0].set_ylabel(\"Mass Flow Rate (kg/s)\")\n",
    "ax[0].set_title(\"Combustion Properties\")\n",
    "\n",
    "\n",
    "# Second Plot will be Fuel Stiffness\n",
    "ax[1].plot(P_inlet_array/1e5, np.array(fu_stiff_array)*100)\n",
    "ax[1].set_ylabel(\"Fuel Stiffness (%)\")\n",
    "ax[1].axhline(20, linestyle=\"--\", color=\"r\")\n",
    "\n",
    "\n",
    "# Thrid Plot will be Oxidiser Stiffness\n",
    "ax[2].plot(P_inlet_array/1e5, np.array(ox_stiff_array)*100)\n",
    "ax[2].set_ylabel(\"Oxidiser Stiffness (%)\")\n",
    "ax[2].set_xlabel(\"Fuel Inlet Pressure (Bar)\")\n",
    "ax[2].axhline(20, linestyle=\"--\", color=\"r\")"
   ]
  },
  {
   "cell_type": "code",
   "execution_count": null,
   "id": "0386019b",
   "metadata": {},
   "outputs": [
    {
     "data": {
      "text/plain": [
       "Text(0.5, 0, 'Fuel Inlet Pressure (Bar)')"
      ]
     },
     "execution_count": 69,
     "metadata": {},
     "output_type": "execute_result"
    }
   ],
   "source": [
    "fig, ax = plt.subplots(3, 1, sharex=True)\n",
    "\n",
    "fig.set_size_inches(12, 6)\n",
    "\n",
    "# First Plot will be Mixture Ratio\n",
    "ax[0].plot(P_inlet_array / 1e5, MR_array)\n",
    "ax[0].set_ylabel(\"Mixture Ratio\")\n",
    "ax[0].set_title(\"Combustion Properties\")\n",
    "\n",
    "\n",
    "# Second Plot will be Chamber Pressure\n",
    "ax[1].plot(P_inlet_array / 1e5, np.array(P_cc_array) / 1e5)\n",
    "ax[1].set_ylabel(\"P_c (Bar)\")\n",
    "\n",
    "\n",
    "# Thrid Plot will be Stagnation Temperature\n",
    "ax[2].plot(P_inlet_array / 1e5, T_o_array)\n",
    "ax[2].set_ylabel(\"T_o (K)\")\n",
    "ax[2].set_xlabel(\"Fuel Inlet Pressure (Bar)\")"
   ]
  }
 ],
 "metadata": {
  "kernelspec": {
   "display_name": ".venv",
   "language": "python",
   "name": "python3"
  },
  "language_info": {
   "codemirror_mode": {
    "name": "ipython",
    "version": 3
   },
   "file_extension": ".py",
   "mimetype": "text/x-python",
   "name": "python",
   "nbconvert_exporter": "python",
   "pygments_lexer": "ipython3",
   "version": "3.11.3"
  }
 },
 "nbformat": 4,
 "nbformat_minor": 5
}
