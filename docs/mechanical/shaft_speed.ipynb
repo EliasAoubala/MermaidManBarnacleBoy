{
 "cells": [
  {
   "cell_type": "markdown",
   "metadata": {},
   "source": [
    "# Shaft Speed Selection and Analysis Document"
   ]
  },
  {
   "cell_type": "markdown",
   "metadata": {},
   "source": [
    "> Author: Elias Aoubala\n",
    "\n",
    "> Date: 27/03/2025"
   ]
  },
  {
   "cell_type": "markdown",
   "metadata": {},
   "source": [
    "## 1 - Background"
   ]
  },
  {
   "cell_type": "markdown",
   "metadata": {},
   "source": [
    "This document contains the analysis and justification for the selection of the preliminary selection of the shaft speed of the turbopump.\n",
    "A basic literature review is conducted to see what has been done, what is the current state-of-the-art, and what are the key drivers for the selection of the shaft speed of a turbopump."
   ]
  },
  {
   "cell_type": "markdown",
   "metadata": {},
   "source": [
    "## 2 - Literature Review"
   ]
  },
  {
   "cell_type": "markdown",
   "metadata": {},
   "source": [
    "The shaft speed of turbopumps is an extremely influential parameter when it comes to the design to turbopump-driven cycles, as often it will drive the expected cycle performances of the system, coupled with being the key-contributor to the expected stresses the mechanical assembly will see.\n",
    "\n",
    "Before discussing in detail the impacts of shaft speed selection have on the overall subsystem, for the sake of brevity, **discussion will be limited to assemblies which have a single shaft, just like the intended architecture of the Mermaid-man turbopump assembly, along with gas-generator based engine cycles.**\n",
    "\n",
    "In-order to get a better idea of what has been done in terms of shaft speeds, a brief litterature review has been conducted to identify what has typically been used succesfully in the past on engines with significant heritage."
   ]
  },
  {
   "cell_type": "markdown",
   "metadata": {},
   "source": [
    "### 2.1 - Heritage Designs"
   ]
  },
  {
   "cell_type": "markdown",
   "metadata": {},
   "source": [
    "A table of the engine name, propellants and turbopump shaft speeds have been presented below.\n",
    "\n",
    "| Organsiation | Engine/Turbopump Name | Propellants | Shaft Speed (RPM) | Citation                                                                          |\n",
    "| ------------ | --------------------- | ----------- | ----------------- | --------------------------------------------------------------------------------- |\n",
    "| SpaceX       | Merlin 1-A            | LOX/RP-1    | 20,000            |                                                                                   |\n",
    "| SpaceX       | Merlin 1-B            | LOX/RP-1    | 22,000            |                                                                                   |\n",
    "| SpaceX       | Merlin 1-D            | LOX/RP-1    | 36,000            |                                                                                   |\n",
    "| Perigee      | Blue 1-S              | LOX/LCH4    | 50,000            |                                                                                   |\n",
    "| NASA         | Fastrac               | LOX/RP-1    | 20,000            | [NTRS](https://ntrs.nasa.gov/api/citations/19990009133/downloads/19990009133.pdf) |\n",
    "| Ariane       | Vulcain 2             | LOX         | 35,680            | [Trollheden et al.](https://doi.org/10.2514/6.1999-2342)                          |\n",
    "| Ariane       | Vulcain 2             | LH2         | 13,290            | [Mark and Windstrom](https://arc.aiaa.org/doi/abs/10.2514/6.1995-2404)            |\n",
    "|              |                       |             |                   |                                                                                   |\n"
   ]
  },
  {
   "cell_type": "markdown",
   "metadata": {},
   "source": []
  }
 ],
 "metadata": {
  "language_info": {
   "name": "python"
  }
 },
 "nbformat": 4,
 "nbformat_minor": 2
}
