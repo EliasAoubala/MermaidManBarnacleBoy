{
 "cells": [
  {
   "cell_type": "markdown",
   "metadata": {},
   "source": [
    "# Test Document for the use of the turborocket library"
   ]
  },
  {
   "cell_type": "code",
   "execution_count": 1,
   "metadata": {},
   "outputs": [],
   "source": [
    "from turborocket.meanline.meanline_relations import TurbineStageDesign\n",
    "from turborocket.fluids.ideal_gas import IdealFluid"
   ]
  },
  {
   "cell_type": "markdown",
   "metadata": {},
   "source": [
    "We can now define the turbine stage and ideal gas properties"
   ]
  },
  {
   "cell_type": "code",
   "execution_count": 2,
   "metadata": {},
   "outputs": [
    {
     "ename": "TypeError",
     "evalue": "IdealFluid.get_expanded_t() got an unexpected keyword argument 'm_star'",
     "output_type": "error",
     "traceback": [
      "\u001b[1;31m---------------------------------------------------------------------------\u001b[0m",
      "\u001b[1;31mTypeError\u001b[0m                                 Traceback (most recent call last)",
      "Cell \u001b[1;32mIn[2], line 12\u001b[0m\n\u001b[0;32m      3\u001b[0m stage \u001b[38;5;241m=\u001b[39m TurbineStageDesign(gas \u001b[38;5;241m=\u001b[39m fluid,\n\u001b[0;32m      4\u001b[0m                            m_dot \u001b[38;5;241m=\u001b[39m \u001b[38;5;241m50e-3\u001b[39m,\n\u001b[0;32m      5\u001b[0m                            omega \u001b[38;5;241m=\u001b[39m \u001b[38;5;241m30000\u001b[39m,\n\u001b[0;32m      6\u001b[0m                            alpha \u001b[38;5;241m=\u001b[39m \u001b[38;5;241m70\u001b[39m\n\u001b[0;32m      7\u001b[0m                            )\n\u001b[0;32m     10\u001b[0m stage\u001b[38;5;241m.\u001b[39mset_operating_point(u_cis\u001b[38;5;241m=\u001b[39m\u001b[38;5;241m0.5\u001b[39m, Rt\u001b[38;5;241m=\u001b[39m\u001b[38;5;241m10\u001b[39m)\n\u001b[1;32m---> 12\u001b[0m \u001b[43mstage\u001b[49m\u001b[38;5;241;43m.\u001b[39;49m\u001b[43msolve_performance\u001b[49m\u001b[43m(\u001b[49m\u001b[43m)\u001b[49m\n",
      "File \u001b[1;32m~\\Desktop\\TurboRocket\\src\\turborocket\\meanline\\meanline_relations.py:623\u001b[0m, in \u001b[0;36mTurbineStageDesign.solve_performance\u001b[1;34m(self)\u001b[0m\n\u001b[0;32m    619\u001b[0m velocities_dict[\u001b[38;5;124m\"\u001b[39m\u001b[38;5;124mc_1s\u001b[39m\u001b[38;5;124m\"\u001b[39m] \u001b[38;5;241m=\u001b[39m \u001b[38;5;28mself\u001b[39m\u001b[38;5;241m.\u001b[39mget_isentropic_spouting()\n\u001b[0;32m    621\u001b[0m velocities_dict[\u001b[38;5;124m\"\u001b[39m\u001b[38;5;124mc_1\u001b[39m\u001b[38;5;124m\"\u001b[39m] \u001b[38;5;241m=\u001b[39m \u001b[38;5;28mself\u001b[39m\u001b[38;5;241m.\u001b[39mget_actual_spouting()\n\u001b[1;32m--> 623\u001b[0m temperature_dict[\u001b[38;5;124m\"\u001b[39m\u001b[38;5;124mt_1\u001b[39m\u001b[38;5;124m\"\u001b[39m] \u001b[38;5;241m=\u001b[39m \u001b[38;5;28;43mself\u001b[39;49m\u001b[38;5;241;43m.\u001b[39;49m\u001b[43mget_t1\u001b[49m\u001b[43m(\u001b[49m\u001b[43m)\u001b[49m\n\u001b[0;32m    625\u001b[0m pressure_dict[\u001b[38;5;124m\"\u001b[39m\u001b[38;5;124mp_1o\u001b[39m\u001b[38;5;124m\"\u001b[39m] \u001b[38;5;241m=\u001b[39m \u001b[38;5;28mself\u001b[39m\u001b[38;5;241m.\u001b[39mget_p1_o()\n\u001b[0;32m    627\u001b[0m geometry_dict[\u001b[38;5;124m\"\u001b[39m\u001b[38;5;124mA_1\u001b[39m\u001b[38;5;124m\"\u001b[39m] \u001b[38;5;241m=\u001b[39m \u001b[38;5;28mself\u001b[39m\u001b[38;5;241m.\u001b[39mget_A1()\n",
      "File \u001b[1;32m~\\Desktop\\TurboRocket\\src\\turborocket\\meanline\\meanline_relations.py:155\u001b[0m, in \u001b[0;36mTurbineStageDesign.get_t1\u001b[1;34m(self, m_star)\u001b[0m\n\u001b[0;32m    151\u001b[0m     \u001b[38;5;28;01mreturn\u001b[39;00m \u001b[38;5;28mself\u001b[39m\u001b[38;5;241m.\u001b[39m_gas\u001b[38;5;241m.\u001b[39mget_expanded_t(M_star\u001b[38;5;241m=\u001b[39mm_star)\n\u001b[0;32m    153\u001b[0m \u001b[38;5;28mself\u001b[39m\u001b[38;5;241m.\u001b[39m_a_star_1 \u001b[38;5;241m=\u001b[39m \u001b[38;5;28mself\u001b[39m\u001b[38;5;241m.\u001b[39m_gas\u001b[38;5;241m.\u001b[39mget_critical_speed()\n\u001b[1;32m--> 155\u001b[0m \u001b[38;5;28mself\u001b[39m\u001b[38;5;241m.\u001b[39m_t1 \u001b[38;5;241m=\u001b[39m \u001b[38;5;28;43mself\u001b[39;49m\u001b[38;5;241;43m.\u001b[39;49m\u001b[43m_gas\u001b[49m\u001b[38;5;241;43m.\u001b[39;49m\u001b[43mget_expanded_t\u001b[49m\u001b[43m(\u001b[49m\n\u001b[0;32m    156\u001b[0m \u001b[43m    \u001b[49m\u001b[43mm_star\u001b[49m\u001b[38;5;241;43m=\u001b[39;49m\u001b[38;5;28;43mself\u001b[39;49m\u001b[38;5;241;43m.\u001b[39;49m\u001b[43mget_m_star\u001b[49m\u001b[43m(\u001b[49m\u001b[43ma_star\u001b[49m\u001b[38;5;241;43m=\u001b[39;49m\u001b[38;5;28;43mself\u001b[39;49m\u001b[38;5;241;43m.\u001b[39;49m\u001b[43m_a_star_1\u001b[49m\u001b[43m,\u001b[49m\u001b[43m \u001b[49m\u001b[43mc\u001b[49m\u001b[38;5;241;43m=\u001b[39;49m\u001b[38;5;28;43mself\u001b[39;49m\u001b[38;5;241;43m.\u001b[39;49m\u001b[43m_c1\u001b[49m\u001b[43m)\u001b[49m\n\u001b[0;32m    157\u001b[0m \u001b[43m\u001b[49m\u001b[43m)\u001b[49m\n",
      "\u001b[1;31mTypeError\u001b[0m: IdealFluid.get_expanded_t() got an unexpected keyword argument 'm_star'"
     ]
    }
   ],
   "source": [
    "fluid = IdealFluid(p = 30e5, t = 295, R = 2000, gamma = 1.4, cp=1040)\n",
    "\n",
    "stage = TurbineStageDesign(gas = fluid,\n",
    "                           m_dot = 50e-3,\n",
    "                           omega = 30000,\n",
    "                           alpha = 70\n",
    "                           )\n",
    "\n",
    "\n",
    "stage.set_operating_point(u_cis=0.5, Rt=10)\n",
    "\n",
    "stage.solve_performance()"
   ]
  },
  {
   "cell_type": "code",
   "execution_count": null,
   "metadata": {},
   "outputs": [],
   "source": []
  }
 ],
 "metadata": {
  "kernelspec": {
   "display_name": ".venv",
   "language": "python",
   "name": "python3"
  },
  "language_info": {
   "codemirror_mode": {
    "name": "ipython",
    "version": 3
   },
   "file_extension": ".py",
   "mimetype": "text/x-python",
   "name": "python",
   "nbconvert_exporter": "python",
   "pygments_lexer": "ipython3",
   "version": "3.11.3"
  }
 },
 "nbformat": 4,
 "nbformat_minor": 2
}
